{
  "nbformat": 4,
  "nbformat_minor": 0,
  "metadata": {
    "colab": {
      "provenance": []
    },
    "kernelspec": {
      "name": "python3",
      "display_name": "Python 3"
    },
    "language_info": {
      "name": "python"
    }
  },
  "cells": [
    {
      "cell_type": "code",
      "execution_count": null,
      "metadata": {
        "id": "2JTyaXtcZWqX"
      },
      "outputs": [],
      "source": [
        "import matplotlib.pyplot as plt\n",
        "import seaborn as sns\n",
        "import datetime\n",
        "from sklearn.model_selection import train_test_split\n",
        "import re\n",
        "import numpy as np\n",
        "import pandas as pd\n",
        "import tensorflow as tf\n",
        "from pathlib import Path\n",
        "import lightgbm as lgb\n",
        "from sklearn.metrics import mean_squared_error\n",
        "from math import sqrt\n",
        "import joblib\n",
        "\n",
        "tf.random.set_seed(1)\n",
        "np.random.seed(1)"
      ]
    },
    {
      "cell_type": "markdown",
      "source": [
        "# Loading Data"
      ],
      "metadata": {
        "id": "UbffDEjxidu_"
      }
    },
    {
      "cell_type": "code",
      "source": [
        "from google.colab import drive\n",
        "drive.mount('/content/drive')"
      ],
      "metadata": {
        "colab": {
          "base_uri": "https://localhost:8080/"
        },
        "id": "HXo9XfHYhZsX",
        "outputId": "c9f66552-1d5a-4b62-9212-807f0d6fb4c5"
      },
      "execution_count": null,
      "outputs": [
        {
          "output_type": "stream",
          "name": "stdout",
          "text": [
            "Drive already mounted at /content/drive; to attempt to forcibly remount, call drive.mount(\"/content/drive\", force_remount=True).\n"
          ]
        }
      ]
    },
    {
      "cell_type": "code",
      "source": [
        "train_path = Path(\"drive/My Drive/airnology/train.csv\")\n",
        "train = pd.read_csv(train_path, parse_dates=['datetime_iso'], index_col='datetime_iso')\n",
        "train.head()"
      ],
      "metadata": {
        "colab": {
          "base_uri": "https://localhost:8080/",
          "height": 362
        },
        "id": "vnGxiOWLe4pk",
        "outputId": "9187bfda-945a-421f-f500-43e4f8fe9e2f"
      },
      "execution_count": null,
      "outputs": [
        {
          "output_type": "execute_result",
          "data": {
            "text/plain": [
              "                            datetime  time-zone           temp    visibility  \\\n",
              "datetime_iso                                                                   \n",
              "1979-01-01 00:00:00+00:00  283996800      28800  24.75 Celcius           NaN   \n",
              "1979-01-01 01:00:00+00:00  284000400      28800        24.58 C           NaN   \n",
              "1979-01-01 02:00:00+00:00  284004000      28800   26.6 Celcius  unidentified   \n",
              "1979-01-01 03:00:00+00:00  284007600      28800  27.31 Celcius           NaN   \n",
              "1979-01-01 04:00:00+00:00  284011200      28800          27.41           NaN   \n",
              "\n",
              "                            d_point    feels min_temp  max_temp prssr  \\\n",
              "datetime_iso                                                            \n",
              "1979-01-01 00:00:00+00:00  23.89  C  25.76 C    24.28   25.22°C  1012   \n",
              "1979-01-01 01:00:00+00:00   23.73 C  25.57 C  23.99 C   25.26 C  1012   \n",
              "1979-01-01 02:00:00+00:00   24.06 C   26.6 C   26.1 C     27.39  1012   \n",
              "1979-01-01 03:00:00+00:00   24.37 C   30.9 C    26.59   28.36 C  1012   \n",
              "1979-01-01 04:00:00+00:00  25.05  C  31.54 C  26.58 C  28.31 °C  1011   \n",
              "\n",
              "                              sea_level    grnd_level hum  wind_spd wind_deg  \\\n",
              "datetime_iso                                                                   \n",
              "1979-01-01 00:00:00+00:00  undetermined           NaN  95      0.82  320.0 °   \n",
              "1979-01-01 01:00:00+00:00           NaN           NaN  95  0.96 m/s   338.0°   \n",
              "1979-01-01 02:00:00+00:00           NaN  undetermined  86  1.22 m/s   339.0°   \n",
              "1979-01-01 03:00:00+00:00           NaN  undetermined  84  1.08 m/s      342   \n",
              "1979-01-01 04:00:00+00:00           NaN  undetermined  87      0.86   336.0°   \n",
              "\n",
              "                          rain_1h      rain_3h snow_1h snow_3h clouds  \n",
              "datetime_iso                                                           \n",
              "1979-01-01 00:00:00+00:00    zero            0     NaN     NaN    100  \n",
              "1979-01-01 01:00:00+00:00       0            0       0       0    100  \n",
              "1979-01-01 02:00:00+00:00       0  volume:zero     NaN     NaN     99  \n",
              "1979-01-01 03:00:00+00:00    0.13          nol       0     NaN     94  \n",
              "1979-01-01 04:00:00+00:00    0.34          nol     NaN       0    100  "
            ],
            "text/html": [
              "\n",
              "  <div id=\"df-b9ee294e-da38-4d82-a5fa-4e0c183f47b4\" class=\"colab-df-container\">\n",
              "    <div>\n",
              "<style scoped>\n",
              "    .dataframe tbody tr th:only-of-type {\n",
              "        vertical-align: middle;\n",
              "    }\n",
              "\n",
              "    .dataframe tbody tr th {\n",
              "        vertical-align: top;\n",
              "    }\n",
              "\n",
              "    .dataframe thead th {\n",
              "        text-align: right;\n",
              "    }\n",
              "</style>\n",
              "<table border=\"1\" class=\"dataframe\">\n",
              "  <thead>\n",
              "    <tr style=\"text-align: right;\">\n",
              "      <th></th>\n",
              "      <th>datetime</th>\n",
              "      <th>time-zone</th>\n",
              "      <th>temp</th>\n",
              "      <th>visibility</th>\n",
              "      <th>d_point</th>\n",
              "      <th>feels</th>\n",
              "      <th>min_temp</th>\n",
              "      <th>max_temp</th>\n",
              "      <th>prssr</th>\n",
              "      <th>sea_level</th>\n",
              "      <th>grnd_level</th>\n",
              "      <th>hum</th>\n",
              "      <th>wind_spd</th>\n",
              "      <th>wind_deg</th>\n",
              "      <th>rain_1h</th>\n",
              "      <th>rain_3h</th>\n",
              "      <th>snow_1h</th>\n",
              "      <th>snow_3h</th>\n",
              "      <th>clouds</th>\n",
              "    </tr>\n",
              "    <tr>\n",
              "      <th>datetime_iso</th>\n",
              "      <th></th>\n",
              "      <th></th>\n",
              "      <th></th>\n",
              "      <th></th>\n",
              "      <th></th>\n",
              "      <th></th>\n",
              "      <th></th>\n",
              "      <th></th>\n",
              "      <th></th>\n",
              "      <th></th>\n",
              "      <th></th>\n",
              "      <th></th>\n",
              "      <th></th>\n",
              "      <th></th>\n",
              "      <th></th>\n",
              "      <th></th>\n",
              "      <th></th>\n",
              "      <th></th>\n",
              "      <th></th>\n",
              "    </tr>\n",
              "  </thead>\n",
              "  <tbody>\n",
              "    <tr>\n",
              "      <th>1979-01-01 00:00:00+00:00</th>\n",
              "      <td>283996800</td>\n",
              "      <td>28800</td>\n",
              "      <td>24.75 Celcius</td>\n",
              "      <td>NaN</td>\n",
              "      <td>23.89  C</td>\n",
              "      <td>25.76 C</td>\n",
              "      <td>24.28</td>\n",
              "      <td>25.22°C</td>\n",
              "      <td>1012</td>\n",
              "      <td>undetermined</td>\n",
              "      <td>NaN</td>\n",
              "      <td>95</td>\n",
              "      <td>0.82</td>\n",
              "      <td>320.0 °</td>\n",
              "      <td>zero</td>\n",
              "      <td>0</td>\n",
              "      <td>NaN</td>\n",
              "      <td>NaN</td>\n",
              "      <td>100</td>\n",
              "    </tr>\n",
              "    <tr>\n",
              "      <th>1979-01-01 01:00:00+00:00</th>\n",
              "      <td>284000400</td>\n",
              "      <td>28800</td>\n",
              "      <td>24.58 C</td>\n",
              "      <td>NaN</td>\n",
              "      <td>23.73 C</td>\n",
              "      <td>25.57 C</td>\n",
              "      <td>23.99 C</td>\n",
              "      <td>25.26 C</td>\n",
              "      <td>1012</td>\n",
              "      <td>NaN</td>\n",
              "      <td>NaN</td>\n",
              "      <td>95</td>\n",
              "      <td>0.96 m/s</td>\n",
              "      <td>338.0°</td>\n",
              "      <td>0</td>\n",
              "      <td>0</td>\n",
              "      <td>0</td>\n",
              "      <td>0</td>\n",
              "      <td>100</td>\n",
              "    </tr>\n",
              "    <tr>\n",
              "      <th>1979-01-01 02:00:00+00:00</th>\n",
              "      <td>284004000</td>\n",
              "      <td>28800</td>\n",
              "      <td>26.6 Celcius</td>\n",
              "      <td>unidentified</td>\n",
              "      <td>24.06 C</td>\n",
              "      <td>26.6 C</td>\n",
              "      <td>26.1 C</td>\n",
              "      <td>27.39</td>\n",
              "      <td>1012</td>\n",
              "      <td>NaN</td>\n",
              "      <td>undetermined</td>\n",
              "      <td>86</td>\n",
              "      <td>1.22 m/s</td>\n",
              "      <td>339.0°</td>\n",
              "      <td>0</td>\n",
              "      <td>volume:zero</td>\n",
              "      <td>NaN</td>\n",
              "      <td>NaN</td>\n",
              "      <td>99</td>\n",
              "    </tr>\n",
              "    <tr>\n",
              "      <th>1979-01-01 03:00:00+00:00</th>\n",
              "      <td>284007600</td>\n",
              "      <td>28800</td>\n",
              "      <td>27.31 Celcius</td>\n",
              "      <td>NaN</td>\n",
              "      <td>24.37 C</td>\n",
              "      <td>30.9 C</td>\n",
              "      <td>26.59</td>\n",
              "      <td>28.36 C</td>\n",
              "      <td>1012</td>\n",
              "      <td>NaN</td>\n",
              "      <td>undetermined</td>\n",
              "      <td>84</td>\n",
              "      <td>1.08 m/s</td>\n",
              "      <td>342</td>\n",
              "      <td>0.13</td>\n",
              "      <td>nol</td>\n",
              "      <td>0</td>\n",
              "      <td>NaN</td>\n",
              "      <td>94</td>\n",
              "    </tr>\n",
              "    <tr>\n",
              "      <th>1979-01-01 04:00:00+00:00</th>\n",
              "      <td>284011200</td>\n",
              "      <td>28800</td>\n",
              "      <td>27.41</td>\n",
              "      <td>NaN</td>\n",
              "      <td>25.05  C</td>\n",
              "      <td>31.54 C</td>\n",
              "      <td>26.58 C</td>\n",
              "      <td>28.31 °C</td>\n",
              "      <td>1011</td>\n",
              "      <td>NaN</td>\n",
              "      <td>undetermined</td>\n",
              "      <td>87</td>\n",
              "      <td>0.86</td>\n",
              "      <td>336.0°</td>\n",
              "      <td>0.34</td>\n",
              "      <td>nol</td>\n",
              "      <td>NaN</td>\n",
              "      <td>0</td>\n",
              "      <td>100</td>\n",
              "    </tr>\n",
              "  </tbody>\n",
              "</table>\n",
              "</div>\n",
              "    <div class=\"colab-df-buttons\">\n",
              "\n",
              "  <div class=\"colab-df-container\">\n",
              "    <button class=\"colab-df-convert\" onclick=\"convertToInteractive('df-b9ee294e-da38-4d82-a5fa-4e0c183f47b4')\"\n",
              "            title=\"Convert this dataframe to an interactive table.\"\n",
              "            style=\"display:none;\">\n",
              "\n",
              "  <svg xmlns=\"http://www.w3.org/2000/svg\" height=\"24px\" viewBox=\"0 -960 960 960\">\n",
              "    <path d=\"M120-120v-720h720v720H120Zm60-500h600v-160H180v160Zm220 220h160v-160H400v160Zm0 220h160v-160H400v160ZM180-400h160v-160H180v160Zm440 0h160v-160H620v160ZM180-180h160v-160H180v160Zm440 0h160v-160H620v160Z\"/>\n",
              "  </svg>\n",
              "    </button>\n",
              "\n",
              "  <style>\n",
              "    .colab-df-container {\n",
              "      display:flex;\n",
              "      gap: 12px;\n",
              "    }\n",
              "\n",
              "    .colab-df-convert {\n",
              "      background-color: #E8F0FE;\n",
              "      border: none;\n",
              "      border-radius: 50%;\n",
              "      cursor: pointer;\n",
              "      display: none;\n",
              "      fill: #1967D2;\n",
              "      height: 32px;\n",
              "      padding: 0 0 0 0;\n",
              "      width: 32px;\n",
              "    }\n",
              "\n",
              "    .colab-df-convert:hover {\n",
              "      background-color: #E2EBFA;\n",
              "      box-shadow: 0px 1px 2px rgba(60, 64, 67, 0.3), 0px 1px 3px 1px rgba(60, 64, 67, 0.15);\n",
              "      fill: #174EA6;\n",
              "    }\n",
              "\n",
              "    .colab-df-buttons div {\n",
              "      margin-bottom: 4px;\n",
              "    }\n",
              "\n",
              "    [theme=dark] .colab-df-convert {\n",
              "      background-color: #3B4455;\n",
              "      fill: #D2E3FC;\n",
              "    }\n",
              "\n",
              "    [theme=dark] .colab-df-convert:hover {\n",
              "      background-color: #434B5C;\n",
              "      box-shadow: 0px 1px 3px 1px rgba(0, 0, 0, 0.15);\n",
              "      filter: drop-shadow(0px 1px 2px rgba(0, 0, 0, 0.3));\n",
              "      fill: #FFFFFF;\n",
              "    }\n",
              "  </style>\n",
              "\n",
              "    <script>\n",
              "      const buttonEl =\n",
              "        document.querySelector('#df-b9ee294e-da38-4d82-a5fa-4e0c183f47b4 button.colab-df-convert');\n",
              "      buttonEl.style.display =\n",
              "        google.colab.kernel.accessAllowed ? 'block' : 'none';\n",
              "\n",
              "      async function convertToInteractive(key) {\n",
              "        const element = document.querySelector('#df-b9ee294e-da38-4d82-a5fa-4e0c183f47b4');\n",
              "        const dataTable =\n",
              "          await google.colab.kernel.invokeFunction('convertToInteractive',\n",
              "                                                    [key], {});\n",
              "        if (!dataTable) return;\n",
              "\n",
              "        const docLinkHtml = 'Like what you see? Visit the ' +\n",
              "          '<a target=\"_blank\" href=https://colab.research.google.com/notebooks/data_table.ipynb>data table notebook</a>'\n",
              "          + ' to learn more about interactive tables.';\n",
              "        element.innerHTML = '';\n",
              "        dataTable['output_type'] = 'display_data';\n",
              "        await google.colab.output.renderOutput(dataTable, element);\n",
              "        const docLink = document.createElement('div');\n",
              "        docLink.innerHTML = docLinkHtml;\n",
              "        element.appendChild(docLink);\n",
              "      }\n",
              "    </script>\n",
              "  </div>\n",
              "\n",
              "\n",
              "<div id=\"df-41ed23df-0a43-4125-a422-62eed24319b4\">\n",
              "  <button class=\"colab-df-quickchart\" onclick=\"quickchart('df-41ed23df-0a43-4125-a422-62eed24319b4')\"\n",
              "            title=\"Suggest charts.\"\n",
              "            style=\"display:none;\">\n",
              "\n",
              "<svg xmlns=\"http://www.w3.org/2000/svg\" height=\"24px\"viewBox=\"0 0 24 24\"\n",
              "     width=\"24px\">\n",
              "    <g>\n",
              "        <path d=\"M19 3H5c-1.1 0-2 .9-2 2v14c0 1.1.9 2 2 2h14c1.1 0 2-.9 2-2V5c0-1.1-.9-2-2-2zM9 17H7v-7h2v7zm4 0h-2V7h2v10zm4 0h-2v-4h2v4z\"/>\n",
              "    </g>\n",
              "</svg>\n",
              "  </button>\n",
              "\n",
              "<style>\n",
              "  .colab-df-quickchart {\n",
              "      --bg-color: #E8F0FE;\n",
              "      --fill-color: #1967D2;\n",
              "      --hover-bg-color: #E2EBFA;\n",
              "      --hover-fill-color: #174EA6;\n",
              "      --disabled-fill-color: #AAA;\n",
              "      --disabled-bg-color: #DDD;\n",
              "  }\n",
              "\n",
              "  [theme=dark] .colab-df-quickchart {\n",
              "      --bg-color: #3B4455;\n",
              "      --fill-color: #D2E3FC;\n",
              "      --hover-bg-color: #434B5C;\n",
              "      --hover-fill-color: #FFFFFF;\n",
              "      --disabled-bg-color: #3B4455;\n",
              "      --disabled-fill-color: #666;\n",
              "  }\n",
              "\n",
              "  .colab-df-quickchart {\n",
              "    background-color: var(--bg-color);\n",
              "    border: none;\n",
              "    border-radius: 50%;\n",
              "    cursor: pointer;\n",
              "    display: none;\n",
              "    fill: var(--fill-color);\n",
              "    height: 32px;\n",
              "    padding: 0;\n",
              "    width: 32px;\n",
              "  }\n",
              "\n",
              "  .colab-df-quickchart:hover {\n",
              "    background-color: var(--hover-bg-color);\n",
              "    box-shadow: 0 1px 2px rgba(60, 64, 67, 0.3), 0 1px 3px 1px rgba(60, 64, 67, 0.15);\n",
              "    fill: var(--button-hover-fill-color);\n",
              "  }\n",
              "\n",
              "  .colab-df-quickchart-complete:disabled,\n",
              "  .colab-df-quickchart-complete:disabled:hover {\n",
              "    background-color: var(--disabled-bg-color);\n",
              "    fill: var(--disabled-fill-color);\n",
              "    box-shadow: none;\n",
              "  }\n",
              "\n",
              "  .colab-df-spinner {\n",
              "    border: 2px solid var(--fill-color);\n",
              "    border-color: transparent;\n",
              "    border-bottom-color: var(--fill-color);\n",
              "    animation:\n",
              "      spin 1s steps(1) infinite;\n",
              "  }\n",
              "\n",
              "  @keyframes spin {\n",
              "    0% {\n",
              "      border-color: transparent;\n",
              "      border-bottom-color: var(--fill-color);\n",
              "      border-left-color: var(--fill-color);\n",
              "    }\n",
              "    20% {\n",
              "      border-color: transparent;\n",
              "      border-left-color: var(--fill-color);\n",
              "      border-top-color: var(--fill-color);\n",
              "    }\n",
              "    30% {\n",
              "      border-color: transparent;\n",
              "      border-left-color: var(--fill-color);\n",
              "      border-top-color: var(--fill-color);\n",
              "      border-right-color: var(--fill-color);\n",
              "    }\n",
              "    40% {\n",
              "      border-color: transparent;\n",
              "      border-right-color: var(--fill-color);\n",
              "      border-top-color: var(--fill-color);\n",
              "    }\n",
              "    60% {\n",
              "      border-color: transparent;\n",
              "      border-right-color: var(--fill-color);\n",
              "    }\n",
              "    80% {\n",
              "      border-color: transparent;\n",
              "      border-right-color: var(--fill-color);\n",
              "      border-bottom-color: var(--fill-color);\n",
              "    }\n",
              "    90% {\n",
              "      border-color: transparent;\n",
              "      border-bottom-color: var(--fill-color);\n",
              "    }\n",
              "  }\n",
              "</style>\n",
              "\n",
              "  <script>\n",
              "    async function quickchart(key) {\n",
              "      const quickchartButtonEl =\n",
              "        document.querySelector('#' + key + ' button');\n",
              "      quickchartButtonEl.disabled = true;  // To prevent multiple clicks.\n",
              "      quickchartButtonEl.classList.add('colab-df-spinner');\n",
              "      try {\n",
              "        const charts = await google.colab.kernel.invokeFunction(\n",
              "            'suggestCharts', [key], {});\n",
              "      } catch (error) {\n",
              "        console.error('Error during call to suggestCharts:', error);\n",
              "      }\n",
              "      quickchartButtonEl.classList.remove('colab-df-spinner');\n",
              "      quickchartButtonEl.classList.add('colab-df-quickchart-complete');\n",
              "    }\n",
              "    (() => {\n",
              "      let quickchartButtonEl =\n",
              "        document.querySelector('#df-41ed23df-0a43-4125-a422-62eed24319b4 button');\n",
              "      quickchartButtonEl.style.display =\n",
              "        google.colab.kernel.accessAllowed ? 'block' : 'none';\n",
              "    })();\n",
              "  </script>\n",
              "</div>\n",
              "    </div>\n",
              "  </div>\n"
            ]
          },
          "metadata": {},
          "execution_count": 77
        }
      ]
    },
    {
      "cell_type": "code",
      "source": [
        "train.info()"
      ],
      "metadata": {
        "colab": {
          "base_uri": "https://localhost:8080/"
        },
        "id": "vWijw69NiWpb",
        "outputId": "29e0f84f-ebc3-4c64-a132-094ce451211e"
      },
      "execution_count": null,
      "outputs": [
        {
          "output_type": "stream",
          "name": "stdout",
          "text": [
            "<class 'pandas.core.frame.DataFrame'>\n",
            "DatetimeIndex: 341880 entries, 1979-01-01 00:00:00+00:00 to 2017-12-31 23:00:00+00:00\n",
            "Data columns (total 19 columns):\n",
            " #   Column      Non-Null Count   Dtype \n",
            "---  ------      --------------   ----- \n",
            " 0   datetime    341880 non-null  int64 \n",
            " 1   time-zone   341880 non-null  int64 \n",
            " 2   temp        341880 non-null  object\n",
            " 3   visibility  51112 non-null   object\n",
            " 4   d_point     341880 non-null  object\n",
            " 5   feels       341880 non-null  object\n",
            " 6   min_temp    341880 non-null  object\n",
            " 7   max_temp    341880 non-null  object\n",
            " 8   prssr       341880 non-null  object\n",
            " 9   sea_level   192964 non-null  object\n",
            " 10  grnd_level  192919 non-null  object\n",
            " 11  hum         341880 non-null  object\n",
            " 12  wind_spd    341880 non-null  object\n",
            " 13  wind_deg    341880 non-null  object\n",
            " 14  rain_1h     341880 non-null  object\n",
            " 15  rain_3h     192329 non-null  object\n",
            " 16  snow_1h     192696 non-null  object\n",
            " 17  snow_3h     192699 non-null  object\n",
            " 18  clouds      341880 non-null  object\n",
            "dtypes: int64(2), object(17)\n",
            "memory usage: 52.2+ MB\n"
          ]
        }
      ]
    },
    {
      "cell_type": "markdown",
      "source": [
        "# CLEANING\n",
        "\n"
      ],
      "metadata": {
        "id": "UW1ComOyif1D"
      }
    },
    {
      "cell_type": "code",
      "source": [
        "train.drop(['datetime',\"time-zone\"], axis=1, inplace=True)"
      ],
      "metadata": {
        "id": "yZyEZo2V_cVl"
      },
      "execution_count": null,
      "outputs": []
    },
    {
      "cell_type": "markdown",
      "source": [
        "### visibility"
      ],
      "metadata": {
        "id": "kM7p10ex0Hk5"
      }
    },
    {
      "cell_type": "code",
      "source": [
        "train.groupby('visibility').size().plot(kind='bar')\n",
        "print(train['visibility'].unique())"
      ],
      "metadata": {
        "colab": {
          "base_uri": "https://localhost:8080/",
          "height": 564
        },
        "id": "N9K2AeRg9UGg",
        "outputId": "c2d23aa6-6b18-4bf5-a675-9e1c556e1174"
      },
      "execution_count": null,
      "outputs": [
        {
          "output_type": "stream",
          "name": "stdout",
          "text": [
            "[nan 'unidentified' ' ' '-1m' 'unrecognized' 'unknown' '-1 km' '-1'\n",
            " 'empty' 'undefined' '-1km' '-1 m' 'missing']\n"
          ]
        },
        {
          "output_type": "display_data",
          "data": {
            "text/plain": [
              "<Figure size 640x480 with 1 Axes>"
            ],
            "image/png": "[encoded data removed]"
          },
          "metadata": {}
        }
      ]
    },
    {
      "cell_type": "code",
      "source": [
        "# memperbaiki kolom 'visibility'\n",
        "replace_dict = {\n",
        "    '-1 m': -1,\n",
        "    '-1': -1,\n",
        "    '-1m': -1,\n",
        "    '-1km': -1000,\n",
        "    '-1 km': -1000\n",
        "}\n",
        "train['visibility'] = train['visibility'].replace(replace_dict)\n",
        "train['visibility'] = train['visibility'].replace({'nan': np.nan, 'unidentified': 0, ' ': 0, 'unrecognized': 0, 'unknown': 0, 'empty': 0, 'undefined': 0, 'missing': 0})\n",
        "train['visibility'] = train['visibility'].astype(float)\n",
        "train['visibility'].fillna(0, inplace=True)\n",
        "train['visibility'] = train['visibility'].astype(int)"
      ],
      "metadata": {
        "id": "sjqT1en-0U7W"
      },
      "execution_count": null,
      "outputs": []
    },
    {
      "cell_type": "code",
      "source": [
        "train.groupby('visibility').size().plot(kind='bar')\n",
        "print(train['visibility'].unique())"
      ],
      "metadata": {
        "colab": {
          "base_uri": "https://localhost:8080/",
          "height": 492
        },
        "id": "ojsNjLF49qp2",
        "outputId": "add56755-304a-433a-fb6e-296c3018d20b"
      },
      "execution_count": null,
      "outputs": [
        {
          "output_type": "stream",
          "name": "stdout",
          "text": [
            "[    0    -1 -1000]\n"
          ]
        },
        {
          "output_type": "display_data",
          "data": {
            "text/plain": [
              "<Figure size 640x480 with 1 Axes>"
            ],
            "image/png": "[encoded data removed]"
          },
          "metadata": {}
        }
      ]
    },
    {
      "cell_type": "markdown",
      "source": [
        "### sea_level"
      ],
      "metadata": {
        "id": "Tpe-btNv4wwS"
      }
    },
    {
      "cell_type": "code",
      "source": [
        "train.groupby('sea_level').size().plot(kind='bar')\n",
        "print(train['sea_level'].unique())"
      ],
      "metadata": {
        "colab": {
          "base_uri": "https://localhost:8080/",
          "height": 569
        },
        "id": "7Kl1mdxD3wi5",
        "outputId": "715e186f-d934-4f8d-c27e-9746abba24af"
      },
      "execution_count": null,
      "outputs": [
        {
          "output_type": "stream",
          "name": "stdout",
          "text": [
            "['undetermined' nan 'unsettled' 'unestablished' '-1' 'not recorded'\n",
            " 'unknown' 'not_recorded' 'not-recorded' 'unspecified']\n"
          ]
        },
        {
          "output_type": "display_data",
          "data": {
            "text/plain": [
              "<Figure size 640x480 with 1 Axes>"
            ],
            "image/png": "[encoded data removed]"
          },
          "metadata": {}
        }
      ]
    },
    {
      "cell_type": "code",
      "source": [
        "# memperbaiki kolom 'sea_level'\n",
        "train['sea_level'] = train['sea_level'].replace({'nan': np.nan, 'undetermined': 0, 'unsettled': 0, 'unestablished': 0, 'unknown': 0, 'not recorded': 0, 'not_recorded': 0, 'not-recorded': 0, 'unspecified': 0})\n",
        "train['sea_level'] = train['sea_level'].astype(float)\n",
        "train['sea_level'].fillna(0, inplace=True)\n",
        "train['sea_level'] = train['sea_level'].astype(int)"
      ],
      "metadata": {
        "id": "ANQSJes4486e"
      },
      "execution_count": null,
      "outputs": []
    },
    {
      "cell_type": "code",
      "source": [
        "train.groupby('sea_level').size().plot(kind='bar')\n",
        "print(train['sea_level'].unique())"
      ],
      "metadata": {
        "colab": {
          "base_uri": "https://localhost:8080/",
          "height": 468
        },
        "id": "uac07T3K-Tfp",
        "outputId": "12ca35d3-cce4-47d6-91ae-b1be444b9c2d"
      },
      "execution_count": null,
      "outputs": [
        {
          "output_type": "stream",
          "name": "stdout",
          "text": [
            "[ 0 -1]\n"
          ]
        },
        {
          "output_type": "display_data",
          "data": {
            "text/plain": [
              "<Figure size 640x480 with 1 Axes>"
            ],
            "image/png": "[encoded data removed]"
          },
          "metadata": {}
        }
      ]
    },
    {
      "cell_type": "markdown",
      "source": [
        "### grnd_level"
      ],
      "metadata": {
        "id": "NiqTOG9u61tS"
      }
    },
    {
      "cell_type": "code",
      "source": [
        "train.groupby('grnd_level').size().plot(kind='bar')\n",
        "print(train['grnd_level'].unique())"
      ],
      "metadata": {
        "colab": {
          "base_uri": "https://localhost:8080/",
          "height": 568
        },
        "id": "1-7fcfAq67zJ",
        "outputId": "9d01d3c9-7d76-4850-de53-3c78627823d1"
      },
      "execution_count": null,
      "outputs": [
        {
          "output_type": "stream",
          "name": "stdout",
          "text": [
            "[nan 'undetermined' 'not recorded' 'unspecified' 'unknown' 'not_recorded'\n",
            " '-1' 'unestablished' 'not-recorded' 'unsettled']\n"
          ]
        },
        {
          "output_type": "display_data",
          "data": {
            "text/plain": [
              "<Figure size 640x480 with 1 Axes>"
            ],
            "image/png": "[encoded data removed]"
          },
          "metadata": {}
        }
      ]
    },
    {
      "cell_type": "code",
      "source": [
        "# memperbaiki kolom 'grnd_level'\n",
        "train['grnd_level'] = train['grnd_level'].replace({'nan': np.nan, 'undetermined': 0, 'unsettled': 0, 'unestablished': 0, 'unknown': 0, 'not recorded': 0, 'not_recorded': 0, 'not-recorded': 0, 'unspecified': 0})\n",
        "train['grnd_level'] = train['grnd_level'].astype(float)\n",
        "train['grnd_level'].fillna(0, inplace=True)\n",
        "train['grnd_level'] = train['grnd_level'].astype(int)"
      ],
      "metadata": {
        "id": "mTKnp0QN7Gz0"
      },
      "execution_count": null,
      "outputs": []
    },
    {
      "cell_type": "code",
      "source": [
        "train.groupby('grnd_level').size().plot(kind='bar')\n",
        "print(train['grnd_level'].unique())"
      ],
      "metadata": {
        "colab": {
          "base_uri": "https://localhost:8080/",
          "height": 468
        },
        "id": "aLjWEP_Q-keZ",
        "outputId": "4de857a5-c8aa-4bc5-a02c-ea879177a812"
      },
      "execution_count": null,
      "outputs": [
        {
          "output_type": "stream",
          "name": "stdout",
          "text": [
            "[ 0 -1]\n"
          ]
        },
        {
          "output_type": "display_data",
          "data": {
            "text/plain": [
              "<Figure size 640x480 with 1 Axes>"
            ],
            "image/png": "[encoded data removed]"
          },
          "metadata": {}
        }
      ]
    },
    {
      "cell_type": "markdown",
      "source": [
        "### rain_1h"
      ],
      "metadata": {
        "id": "EVi3JTEcDrtZ"
      }
    },
    {
      "cell_type": "code",
      "source": [
        "print(train['rain_1h'].unique())"
      ],
      "metadata": {
        "colab": {
          "base_uri": "https://localhost:8080/"
        },
        "id": "XU07sw6fBX4J",
        "outputId": "c4649c0d-5a6c-462e-a8c2-a0d6917b397c"
      },
      "execution_count": null,
      "outputs": [
        {
          "output_type": "stream",
          "name": "stdout",
          "text": [
            "['zero' '0' '0.13' ... '8.21 mm' '9.53' '9.16 mm']\n"
          ]
        }
      ]
    },
    {
      "cell_type": "code",
      "source": [
        "# Menggunakan ekspresi reguler untuk membersihkan kolom 'rain_1h' dan mengonversi ke float\n",
        "train['rain_1h'] = train['rain_1h'].apply(lambda x: re.findall(r'\\d+\\.\\d+|\\d+', x))\n",
        "train['rain_1h'] = train['rain_1h'].apply(lambda x: float(x[0]) if x else 0.0)"
      ],
      "metadata": {
        "id": "dzszsCPHDt2R"
      },
      "execution_count": null,
      "outputs": []
    },
    {
      "cell_type": "code",
      "source": [
        "print(train['rain_1h'].unique())"
      ],
      "metadata": {
        "colab": {
          "base_uri": "https://localhost:8080/"
        },
        "id": "loVROEDgrXbG",
        "outputId": "77825f63-2b3c-4c03-b613-de1742b93836"
      },
      "execution_count": null,
      "outputs": [
        {
          "output_type": "stream",
          "name": "stdout",
          "text": [
            "[0.   0.13 0.34 ... 8.21 9.53 9.16]\n"
          ]
        }
      ]
    },
    {
      "cell_type": "markdown",
      "source": [
        "### temp"
      ],
      "metadata": {
        "id": "dd6TbPfOrF6i"
      }
    },
    {
      "cell_type": "code",
      "source": [
        "print(train['temp'].unique())"
      ],
      "metadata": {
        "colab": {
          "base_uri": "https://localhost:8080/"
        },
        "id": "owbNyfRfrKBl",
        "outputId": "8ffff77f-f2d0-490e-bae2-2f14ec800388"
      },
      "execution_count": null,
      "outputs": [
        {
          "output_type": "stream",
          "name": "stdout",
          "text": [
            "['24.75 Celcius' '24.58 C' '26.6 Celcius' ... '136.06 °C' '33.48 Celcius'\n",
            " '34.32 C']\n"
          ]
        }
      ]
    },
    {
      "cell_type": "code",
      "source": [
        "# Menggunakan ekspresi reguler untuk membersihkan kolom 'temp' dan mengonversi ke float\n",
        "train['temp'] = train['temp'].apply(lambda x: re.findall(r'\\d+\\.\\d+|\\d+', x))\n",
        "train['temp'] = train['temp'].apply(lambda x: float(x[0]) if x else 0.0)"
      ],
      "metadata": {
        "id": "fOxypLdhrP4J"
      },
      "execution_count": null,
      "outputs": []
    },
    {
      "cell_type": "code",
      "source": [
        "print(train['temp'].unique())"
      ],
      "metadata": {
        "colab": {
          "base_uri": "https://localhost:8080/"
        },
        "id": "Ih0x6CoXrZCO",
        "outputId": "cb705a9b-6ef4-43d3-9537-7f56ca8ca709"
      },
      "execution_count": null,
      "outputs": [
        {
          "output_type": "stream",
          "name": "stdout",
          "text": [
            "[ 24.75  24.58  26.6  ... 158.6  159.75  34.32]\n"
          ]
        }
      ]
    },
    {
      "cell_type": "markdown",
      "source": [
        "### d_point"
      ],
      "metadata": {
        "id": "KGQNfDSArf6m"
      }
    },
    {
      "cell_type": "code",
      "source": [
        "print(train['d_point'].unique())"
      ],
      "metadata": {
        "colab": {
          "base_uri": "https://localhost:8080/"
        },
        "id": "HD04F4iorpWt",
        "outputId": "4a756a69-923a-4859-f9c7-7d26ee661ef4"
      },
      "execution_count": null,
      "outputs": [
        {
          "output_type": "stream",
          "name": "stdout",
          "text": [
            "['23.89  C' '23.73 C' '24.06 C' ... '28.13 C' '28.1 Celcius' '126.76°C']\n"
          ]
        }
      ]
    },
    {
      "cell_type": "code",
      "source": [
        "# Menggunakan ekspresi reguler untuk membersihkan kolom 'd_point' dan mengonversi ke float\n",
        "train['d_point'] = train['d_point'].apply(lambda x: re.findall(r'\\d+\\.\\d+|\\d+', x))\n",
        "train['d_point'] = train['d_point'].apply(lambda x: float(x[0]) if x else 0.0)"
      ],
      "metadata": {
        "id": "Fq-1uGVHrset"
      },
      "execution_count": null,
      "outputs": []
    },
    {
      "cell_type": "code",
      "source": [
        "print(train['d_point'].unique())"
      ],
      "metadata": {
        "colab": {
          "base_uri": "https://localhost:8080/"
        },
        "id": "ztQ-mElIr-F-",
        "outputId": "0935eb34-3990-4692-e214-239090c3f42c"
      },
      "execution_count": null,
      "outputs": [
        {
          "output_type": "stream",
          "name": "stdout",
          "text": [
            "[23.89 23.73 24.06 ... 28.08 28.69 28.53]\n"
          ]
        }
      ]
    },
    {
      "cell_type": "markdown",
      "source": [
        "### feels"
      ],
      "metadata": {
        "id": "dgbEJi2zsFny"
      }
    },
    {
      "cell_type": "code",
      "source": [
        "print(train['feels'].unique())"
      ],
      "metadata": {
        "colab": {
          "base_uri": "https://localhost:8080/"
        },
        "id": "gYUAa2VZsHQi",
        "outputId": "eca96bde-b691-4a0f-befa-d64130491c87"
      },
      "execution_count": null,
      "outputs": [
        {
          "output_type": "stream",
          "name": "stdout",
          "text": [
            "['25.76 C' '25.57 C' '26.6 C' ... '153.97 C' '189.53 C' '33.69 Celcius']\n"
          ]
        }
      ]
    },
    {
      "cell_type": "code",
      "source": [
        "# Menggunakan ekspresi reguler untuk membersihkan kolom 'feels' dan mengonversi ke float\n",
        "train['feels'] = train['feels'].apply(lambda x: re.findall(r'\\d+\\.\\d+|\\d+', x))\n",
        "train['feels'] = train['feels'].apply(lambda x: float(x[0]) if x else 0.0)"
      ],
      "metadata": {
        "id": "QKjRZlVcsLja"
      },
      "execution_count": null,
      "outputs": []
    },
    {
      "cell_type": "code",
      "source": [
        "print(train['feels'].unique())"
      ],
      "metadata": {
        "colab": {
          "base_uri": "https://localhost:8080/"
        },
        "id": "bk295g3csKXi",
        "outputId": "db0e705c-8856-4a56-974f-2da3f9bc243a"
      },
      "execution_count": null,
      "outputs": [
        {
          "output_type": "stream",
          "name": "stdout",
          "text": [
            "[ 25.76  25.57  26.6  ...  41.32 187.52 189.53]\n"
          ]
        }
      ]
    },
    {
      "cell_type": "markdown",
      "source": [
        "### min_temp"
      ],
      "metadata": {
        "id": "ntewE8vmsUVp"
      }
    },
    {
      "cell_type": "code",
      "source": [
        "print(train['min_temp'].unique())"
      ],
      "metadata": {
        "colab": {
          "base_uri": "https://localhost:8080/"
        },
        "id": "v4riSA7QsWrW",
        "outputId": "23177c32-221c-4b60-f837-cf66efabe33b"
      },
      "execution_count": null,
      "outputs": [
        {
          "output_type": "stream",
          "name": "stdout",
          "text": [
            "['24.28' '23.99 C' '26.1 C' ... '127.26  C' '143.15 °C' '131.18°C']\n"
          ]
        }
      ]
    },
    {
      "cell_type": "code",
      "source": [
        "# Menggunakan ekspresi reguler untuk membersihkan kolom 'min_temp' dan mengonversi ke float\n",
        "train['min_temp'] = train['min_temp'].apply(lambda x: re.findall(r'\\d+\\.\\d+|\\d+', x))\n",
        "train['min_temp'] = train['min_temp'].apply(lambda x: float(x[0]) if x else 0.0)"
      ],
      "metadata": {
        "id": "1pXlYWrdschR"
      },
      "execution_count": null,
      "outputs": []
    },
    {
      "cell_type": "code",
      "source": [
        "print(train['min_temp'].unique())"
      ],
      "metadata": {
        "colab": {
          "base_uri": "https://localhost:8080/"
        },
        "id": "BrgLxQpOsX6q",
        "outputId": "9ba5a5e7-a5a2-4cb7-9d93-722b40bf759c"
      },
      "execution_count": null,
      "outputs": [
        {
          "output_type": "stream",
          "name": "stdout",
          "text": [
            "[ 24.28  23.99  26.1  ... 149.19 146.78 148.74]\n"
          ]
        }
      ]
    },
    {
      "cell_type": "markdown",
      "source": [
        "### max_temp"
      ],
      "metadata": {
        "id": "XnN3TcwYsvGm"
      }
    },
    {
      "cell_type": "code",
      "source": [
        "print(train['max_temp'].unique())"
      ],
      "metadata": {
        "colab": {
          "base_uri": "https://localhost:8080/"
        },
        "id": "LvWBkAkJszE-",
        "outputId": "9562db08-e4aa-4d2e-fa91-28adee3af8e9"
      },
      "execution_count": null,
      "outputs": [
        {
          "output_type": "stream",
          "name": "stdout",
          "text": [
            "['25.22°C' '25.26 C' '27.39' ... '34.34 Celcius' '177.66' '126.96  C']\n"
          ]
        }
      ]
    },
    {
      "cell_type": "code",
      "source": [
        "# Menggunakan ekspresi reguler untuk membersihkan kolom 'max_temp' dan mengonversi ke float\n",
        "train['max_temp'] = train['max_temp'].apply(lambda x: re.findall(r'\\d+\\.\\d+|\\d+', x))\n",
        "train['max_temp'] = train['max_temp'].apply(lambda x: float(x[0]) if x else 0.0)"
      ],
      "metadata": {
        "id": "ldPv-BIBs2xu"
      },
      "execution_count": null,
      "outputs": []
    },
    {
      "cell_type": "code",
      "source": [
        "print(train['max_temp'].unique())"
      ],
      "metadata": {
        "colab": {
          "base_uri": "https://localhost:8080/"
        },
        "id": "mPic-rCUs0pe",
        "outputId": "efdbf3bd-e12d-4537-b650-35e8ec895d3d"
      },
      "execution_count": null,
      "outputs": [
        {
          "output_type": "stream",
          "name": "stdout",
          "text": [
            "[ 25.22  25.26  27.39 ...  35.4  169.91 177.66]\n"
          ]
        }
      ]
    },
    {
      "cell_type": "markdown",
      "source": [
        "### prssr"
      ],
      "metadata": {
        "id": "qmZbymWBs_SZ"
      }
    },
    {
      "cell_type": "code",
      "source": [
        "print(train['prssr'].unique())"
      ],
      "metadata": {
        "colab": {
          "base_uri": "https://localhost:8080/"
        },
        "id": "zvmO6EyxtBdH",
        "outputId": "bac98e8a-36c9-448d-c9e2-bbd6aa098e47"
      },
      "execution_count": null,
      "outputs": [
        {
          "output_type": "stream",
          "name": "stdout",
          "text": [
            "['1012' '1011' '1010' '1010.0 hPa' '1009' '1012.0hPa' '1012.0 hPa'\n",
            " '1012.0 hPa.' '1013.0 hPa' '1013' '1011.0 hPa.' '1013.0hPa' '1011.0 hPa'\n",
            " '1008' '1009.0 hPa' '1011.0hPa' '5080.3' '1007' '1008.0 hPa' '1008.0hPa'\n",
            " '1007.0 hPa.' '5090.36' '5085.33' '1013.0 hPa.' '1014.0 hPa.' '1009.0hPa'\n",
            " '1009.0 hPa.' '1010.0 hPa.' '1007.0 hPa' '1008.0 hPa.' '5090.36 hPa.'\n",
            " '5085.33 hPa' '1010.0hPa' '1014' '1015.0 hPa' '1015' '1014.0 hPa'\n",
            " '1015.0 hPa.' '5095.39' '1014.0hPa' '1007.0hPa' '5060.18' '1006' '1005'\n",
            " '1006.0 hPa.' '1006.0 hPa' '5070.24' '5075.27' '5080.3hPa' '5075.27 hPa'\n",
            " '5070.24 hPa' '5065.21hPa' '1006.0hPa' '5065.21' '5080.3 hPa'\n",
            " '1005.0 hPa' '1005.0 hPa.' '5085.33hPa' '5075.27 hPa.' '5090.36 hPa'\n",
            " '1004' '1005.0hPa' '5070.24 hPa.' '5100.42 hPa' '5080.3 hPa.'\n",
            " '5085.33 hPa.' '5060.18 hPa' '5055.15' '5100.42' '1016' '1015.0hPa'\n",
            " '5065.21 hPa.' '5065.21 hPa' '5090.36hPa' '1004.0 hPa.' '5075.27hPa'\n",
            " '1004.0 hPa' '5105.45 hPa' '1016.0hPa' '1016.0 hPa.' '5100.42 hPa.'\n",
            " '1004.0hPa' '5055.15 hPa.' '5070.24hPa' '5095.39 hPa.' '5095.39 hPa'\n",
            " '5095.39hPa' '5105.45 hPa.' '1016.0 hPa' '1017.0 hPa' '1017'\n",
            " '5060.18 hPa.' '5055.15hPa' '1003' '1003.0 hPa.' '1003.0hPa' '1002.0 hPa'\n",
            " '1002' '1003.0 hPa' '5050.12 hPa.' '5050.12' '5060.18hPa' '5105.45'\n",
            " '5100.42hPa' '5050.12hPa' '5045.09' '1017.0hPa' '5115.51' '5055.15 hPa'\n",
            " '1001.0hPa' '1002.0 hPa.']\n"
          ]
        }
      ]
    },
    {
      "cell_type": "code",
      "source": [
        "# Menggunakan ekspresi reguler untuk membersihkan kolom 'prssr' dan mengonversi ke float\n",
        "train['prssr'] = train['prssr'].apply(lambda x: re.findall(r'\\d+\\.\\d+|\\d+', x))\n",
        "train['prssr'] = train['prssr'].apply(lambda x: float(x[0]) if x else 0.0)"
      ],
      "metadata": {
        "id": "7C7vQr1TtId9"
      },
      "execution_count": null,
      "outputs": []
    },
    {
      "cell_type": "code",
      "source": [
        "print(train['prssr'].unique())"
      ],
      "metadata": {
        "colab": {
          "base_uri": "https://localhost:8080/"
        },
        "id": "CjdS4TVntHU6",
        "outputId": "991bba42-c90d-4b7b-99b7-3dfae9d1ab64"
      },
      "execution_count": null,
      "outputs": [
        {
          "output_type": "stream",
          "name": "stdout",
          "text": [
            "[1012.   1011.   1010.   1009.   1013.   1008.   5080.3  1007.   5090.36\n",
            " 5085.33 1014.   1015.   5095.39 5060.18 1006.   1005.   5070.24 5075.27\n",
            " 5065.21 1004.   5100.42 5055.15 1016.   5105.45 1017.   1003.   1002.\n",
            " 5050.12 5045.09 5115.51 1001.  ]\n"
          ]
        }
      ]
    },
    {
      "cell_type": "markdown",
      "source": [
        "### hum"
      ],
      "metadata": {
        "id": "7mXQbaDktZ7S"
      }
    },
    {
      "cell_type": "code",
      "source": [
        "print(train['hum'].unique())"
      ],
      "metadata": {
        "colab": {
          "base_uri": "https://localhost:8080/"
        },
        "id": "onyWbJBGt45d",
        "outputId": "b31d8d19-aba1-4927-ef9a-c338b814f852"
      },
      "execution_count": null,
      "outputs": [
        {
          "output_type": "stream",
          "name": "stdout",
          "text": [
            "['95' '86' '84' '87' '83' '77' '85' '92' '98' '99' '99.00%' '497.97' '100'\n",
            " '98.00%' '95.00%' '90' '89' '87.00%' '89.00%' '88' '94' '96' '97' '93'\n",
            " '73' '362.16' '70' '74' '96.00%' '76' '71' '66' '80' '81' '69.00%' '79'\n",
            " '91' '82' '67.00%' '82.00%' '91.00%' '93.00%' '97.00%' '94.00%' '88.00%'\n",
            " '78' '75' '100.00%' '492.94' '73.00%' '72' '90.00%' '417.49' '79.00%'\n",
            " '69' '477.85%' '72.00%' '71.00%' '74.00%' '467.79' '70.00%' '442.64' '64'\n",
            " '61' '60' '63' '84.00%' '80.00%' '377.25' '67' '65' '92.00%' '78.00%'\n",
            " '62' '58' '56' '55' '57' '66.00%' '68' '81.00%' '76.00%' '68.00%'\n",
            " '462.76' '487.91' '83.00%' '482.88' '503' '412.46' '477.85' '75.00%'\n",
            " '85.00%' '472.82' '59' '59.00%' '86.00%' '382.28' '482.88%' '77.00%'\n",
            " '402.4' '497.97%' '492.94%' '452.70%' '462.76%' '387.31%' '65.00%'\n",
            " '60.00%' '352.1' '457.73' '447.67%' '392.34' '427.55' '452.7' '447.67'\n",
            " '437.61' '367.19' '467.79%' '62.00%' '362.16%' '407.43%' '54' '64.00%'\n",
            " '53' '56.00%' '392.34%' '357.13' '422.52' '397.37%' '487.91%' '387.31'\n",
            " '342.04' '55.00%' '54.00%' '397.37' '337.01' '377.25%' '372.22%' '372.22'\n",
            " '63.00%' '61.00%' '347.07' '352.10%' '432.58' '407.43' '402.40%'\n",
            " '417.49%' '437.61%' '331.98' '326.95' '57.00%' '51' '321.92' '382.28%'\n",
            " '58.00%' '271.62' '276.65' '316.89' '442.64%' '52.00%' '50' '51.00%'\n",
            " '306.83' '331.98%' '52' '53.00%' '47' '46' '296.77' '47.00%' '46.00%'\n",
            " '44' '48' '45' '48.00%' '49' '236.41' '221.32' '43' '42' '45.00%' '40'\n",
            " '41' '271.62%' '286.71' '49.00%' '50.00%' '256.53' '39' '301.8' '246.47'\n",
            " '422.52%' '427.55%' '311.86' '472.82%' '347.07%' '457.73%' '357.13%'\n",
            " '342.04%' '432.58%' '367.19%' '412.46%' '311.86%' '316.89%' '281.68'\n",
            " '326.95%' '291.74' '503.00%' '261.56' '266.59' '291.74%' '35' '33' '34'\n",
            " '38' '42.00%' '37.00%' '36' '44.00%' '176.05' '32' '29' '40.00%' '39.00%'\n",
            " '41.00%' '196.17' '201.2' '171.02' '38.00%' '266.59%' '246.47%' '36.00%'\n",
            " '337.01%' '301.80%' '321.92%' '306.83%']\n"
          ]
        }
      ]
    },
    {
      "cell_type": "code",
      "source": [
        "# Menggunakan ekspresi reguler untuk membersihkan kolom 'hum' dan mengonversi ke float\n",
        "train['hum'] = train['hum'].apply(lambda x: re.findall(r'\\d+\\.\\d+|\\d+', x))\n",
        "train['hum'] = train['hum'].apply(lambda x: float(x[0]) if x else 0.0)"
      ],
      "metadata": {
        "id": "Pn_pJvJut-Cy"
      },
      "execution_count": null,
      "outputs": []
    },
    {
      "cell_type": "code",
      "source": [
        "print(train['hum'].unique())"
      ],
      "metadata": {
        "colab": {
          "base_uri": "https://localhost:8080/"
        },
        "id": "r2SkCkvUt6xd",
        "outputId": "76d671d6-e63b-48cb-e6ef-ea0863191a78"
      },
      "execution_count": null,
      "outputs": [
        {
          "output_type": "stream",
          "name": "stdout",
          "text": [
            "[ 95.    86.    84.    87.    83.    77.    85.    92.    98.    99.\n",
            " 497.97 100.    90.    89.    88.    94.    96.    97.    93.    73.\n",
            " 362.16  70.    74.    76.    71.    66.    80.    81.    69.    79.\n",
            "  91.    82.    67.    78.    75.   492.94  72.   417.49 477.85 467.79\n",
            " 442.64  64.    61.    60.    63.   377.25  65.    62.    58.    56.\n",
            "  55.    57.    68.   462.76 487.91 482.88 503.   412.46 472.82  59.\n",
            " 382.28 402.4  452.7  387.31 352.1  457.73 447.67 392.34 427.55 437.61\n",
            " 367.19 407.43  54.    53.   357.13 422.52 397.37 342.04 337.01 372.22\n",
            " 347.07 432.58 331.98 326.95  51.   321.92 271.62 276.65 316.89  52.\n",
            "  50.   306.83  47.    46.   296.77  44.    48.    45.    49.   236.41\n",
            " 221.32  43.    42.    40.    41.   286.71 256.53  39.   301.8  246.47\n",
            " 311.86 281.68 291.74 261.56 266.59  35.    33.    34.    38.    37.\n",
            "  36.   176.05  32.    29.   196.17 201.2  171.02]\n"
          ]
        }
      ]
    },
    {
      "cell_type": "markdown",
      "source": [
        "### wind_spd"
      ],
      "metadata": {
        "id": "aBTkTw0MuPY-"
      }
    },
    {
      "cell_type": "code",
      "source": [
        "print(train['wind_spd'].unique())"
      ],
      "metadata": {
        "colab": {
          "base_uri": "https://localhost:8080/"
        },
        "id": "hgMLZSZ5uRRX",
        "outputId": "b9806f7b-e805-459b-99b0-0c6451ed708a"
      },
      "execution_count": null,
      "outputs": [
        {
          "output_type": "stream",
          "name": "stdout",
          "text": [
            "['0.82' '0.96 m/s' '1.22 m/s' ... '12.22m/s' '8.5m/s' '20.02m/s']\n"
          ]
        }
      ]
    },
    {
      "cell_type": "code",
      "source": [
        "# Menggunakan ekspresi reguler untuk mengambil angka dari kolom 'wind_spd' dan mengonversi ke float\n",
        "train['wind_spd'] = train['wind_spd'].apply(lambda x: re.search(r'[\\d.]+', x).group() if re.search(r'[\\d.]+', x) else '0')\n",
        "train['wind_spd'] = train['wind_spd'].astype(float)"
      ],
      "metadata": {
        "id": "xEZwdm5suXi2"
      },
      "execution_count": null,
      "outputs": []
    },
    {
      "cell_type": "code",
      "source": [
        "print(train['wind_spd'].unique())"
      ],
      "metadata": {
        "colab": {
          "base_uri": "https://localhost:8080/"
        },
        "id": "FGoJmirIuWHO",
        "outputId": "a3f6392d-b29b-438e-8e2a-d8138a92fa9f"
      },
      "execution_count": null,
      "outputs": [
        {
          "output_type": "stream",
          "name": "stdout",
          "text": [
            "[8.200e-01 9.600e-01 1.220e+00 1.080e+00 8.600e-01 8.400e-01 7.100e-01\n",
            " 6.200e-01 4.400e-01 6.300e-01 7.800e-01 6.900e-01 1.010e+00 8.000e-01\n",
            " 9.000e-01 9.200e-01 6.600e-01 7.700e-01 1.000e+00 6.100e-01 6.800e-01\n",
            " 3.700e-01 3.100e-01 5.400e-01 7.500e-01 1.540e+00 4.900e-01 4.000e-02\n",
            " 7.200e-01 1.350e+00 8.500e-01 6.700e-01 5.200e-01 8.700e-01 5.800e-01\n",
            " 5.900e-01 1.600e-01 2.000e-01 4.100e-01 1.760e+00 1.090e+00 8.900e-01\n",
            " 1.040e+00 4.800e-01 1.210e+00 1.260e+00 1.430e+00 8.800e-01 1.020e+00\n",
            " 1.110e+00 1.580e+00 9.800e-01 2.800e-01 2.700e-01 9.700e-01 4.500e-01\n",
            " 6.000e-02 1.410e+00 1.480e+00 1.230e+00 1.190e+00 1.200e+00 7.600e-01\n",
            " 1.060e+00 9.900e-01 1.170e+00 1.590e+00 1.300e+00 9.100e-01 6.500e-01\n",
            " 1.240e+00 1.130e+00 1.520e+00 1.340e+00 1.700e+00 1.930e+00 1.750e+00\n",
            " 4.000e-01 1.050e+00 7.300e-01 1.370e+00 1.100e+00 1.650e+00 1.450e+00\n",
            " 1.330e+00 1.250e+00 7.900e-01 3.800e-01 1.280e+00 9.300e-01 1.570e+00\n",
            " 1.560e+00 1.720e+00 1.640e+00 1.160e+00 1.440e+00 1.800e-01 5.700e-01\n",
            " 1.070e+00 1.030e+00 8.100e-01 8.300e-01 5.000e-01 7.000e-01 1.530e+00\n",
            " 1.860e+00 1.770e+00 1.460e+00 1.390e+00 1.120e+00 6.000e-01 4.170e+00\n",
            " 5.600e-01 5.500e-01 1.320e+00 1.270e+00 4.300e-01 1.180e+00 3.900e-01\n",
            " 1.960e+00 4.200e-01 1.510e+00 1.140e+00 1.290e+00 1.500e-01 3.300e-01\n",
            " 3.600e-01 1.700e-01 6.400e-01 1.380e+00 2.360e+00 5.000e-02 1.100e-01\n",
            " 9.000e-02 9.400e-01 5.300e-01 1.360e+00 1.710e+00 1.400e+00 2.300e-01\n",
            " 1.630e+00 1.670e+00 1.680e+00 1.610e+00 1.970e+00 5.100e-01 1.550e+00\n",
            " 2.090e+00 3.060e+00 3.370e+00 3.310e+00 2.760e+00 2.590e+00 2.320e+00\n",
            " 2.290e+00 7.000e-02 3.500e-01 2.100e-01 4.280e+00 1.150e+00 9.500e-01\n",
            " 4.600e-01 1.490e+00 1.470e+00 3.200e-01 2.900e-01 1.310e+00 1.840e+00\n",
            " 1.830e+00 1.890e+00 1.900e+00 1.820e+00 6.490e+00 2.210e+00 3.170e+00\n",
            " 3.420e+00 3.050e+00 2.710e+00 2.610e+00 1.940e+00 1.880e+00 1.870e+00\n",
            " 1.420e+00 4.830e+00 1.660e+00 2.750e+00 3.530e+00 1.489e+01 2.620e+00\n",
            " 2.520e+00 2.830e+00 3.120e+00 2.770e+00 2.190e+00 1.730e+00 1.810e+00\n",
            " 8.500e+00 2.180e+00 2.250e+00 2.370e+00 2.400e+00 2.530e+00 3.490e+00\n",
            " 4.130e+00 4.040e+00 3.870e+00 3.610e+00 3.440e+00 3.260e+00 3.290e+00\n",
            " 2.800e+00 1.740e+00 1.790e+00 1.980e+00 2.100e+00 2.040e+00 1.800e+00\n",
            " 2.140e+00 2.640e+00 2.740e+00 2.490e+00 2.240e+00 1.172e+01 2.440e+00\n",
            " 2.920e+00 2.500e+00 2.550e+00 2.570e+00 2.430e+00 2.390e+00 1.207e+01\n",
            " 2.560e+00 3.230e+00 3.750e+00 3.860e+00 3.590e+00 3.340e+00 3.160e+00\n",
            " 3.030e+00 2.780e+00 2.010e+00 2.380e+00 1.112e+01 1.056e+01 2.080e+00\n",
            " 1.600e+00 1.950e+00 2.990e+00 3.000e+00 1.990e+00 2.810e+00 1.900e-01\n",
            " 2.500e-01 5.480e+00 2.600e-01 3.000e-02 4.930e+00 1.620e+00 7.400e-01\n",
            " 3.000e-01 9.100e+00 1.300e-01 2.000e+00 1.850e+00 2.050e+00 2.060e+00\n",
            " 1.690e+00 2.410e+00 2.020e+00 2.260e+00 2.170e+00 2.980e+00 3.890e+00\n",
            " 3.760e+00 3.350e+00 2.840e+00 2.540e+00 2.310e+00 1.910e+00 1.780e+00\n",
            " 7.040e+00 2.400e-01 2.670e+00 1.500e+00 2.330e+00 1.464e+01 3.400e-01\n",
            " 8.000e-02 2.110e+00 4.700e-01 3.920e+00 1.400e-01 6.940e+00 5.580e+00\n",
            " 2.220e+00 1.000e-01 2.230e+00 2.270e+00 2.630e+00 2.950e+00 2.510e+00\n",
            " 2.480e+00 3.790e+00 3.510e+00 2.930e+00 1.283e+01 2.200e+00 7.190e+00\n",
            " 2.460e+00 9.000e+00 2.030e+00 2.200e-01 8.200e+00 4.070e+00 1.920e+00\n",
            " 1.200e-01 2.150e+00 4.980e+00 8.850e+00 6.590e+00 2.650e+00 4.020e+00\n",
            " 3.070e+00 3.410e+00 3.140e+00 2.850e+00 2.160e+00 9.460e+00 2.660e+00\n",
            " 2.300e+00 2.070e+00 8.900e+00 2.000e-02 5.680e+00 6.990e+00 4.480e+00\n",
            " 8.550e+00 4.880e+00 6.840e+00 4.330e+00 3.520e+00 7.090e+00 3.820e+00\n",
            " 7.900e+00 2.470e+00 2.130e+00 7.340e+00 2.600e+00 2.870e+00 2.910e+00\n",
            " 5.830e+00 2.450e+00 2.580e+00 1.197e+01 1.041e+01 6.290e+00 3.020e+00\n",
            " 2.350e+00 2.890e+00 2.420e+00 3.220e+00 8.000e+00 2.280e+00 1.383e+01\n",
            " 3.110e+00 1.157e+01 2.730e+00 2.970e+00 2.720e+00 2.700e+00 2.940e+00\n",
            " 3.180e+00 3.480e+00 3.540e+00 3.470e+00 3.430e+00 1.006e+01 2.340e+00\n",
            " 3.100e+00 3.090e+00 3.150e+00 2.880e+00 3.620e+00 2.680e+00 3.240e+00\n",
            " 3.650e+00 3.580e+00 2.690e+00 2.960e+00 3.720e+00 4.150e+00 4.290e+00\n",
            " 4.370e+00 4.350e+00 4.230e+00 3.910e+00 3.660e+00 3.080e+00 1.026e+01\n",
            " 3.500e+00 2.120e+00 7.290e+00 8.950e+00 3.210e+00 1.046e+01 1.132e+01\n",
            " 1.031e+01 2.860e+00 3.950e+00 3.990e+00 3.280e+00 3.570e+00 4.010e+00\n",
            " 4.000e+00 4.490e+00 4.390e+00 3.640e+00 3.850e+00 4.100e+00 1.921e+01\n",
            " 4.060e+00 1.081e+01 3.670e+00 3.960e+00 4.030e+00 3.970e+00 2.092e+01\n",
            " 4.110e+00 2.790e+00 4.240e+00 4.510e+00 4.540e+00 4.410e+00 8.150e+00\n",
            " 9.410e+00 3.200e+00 3.010e+00 9.810e+00 3.040e+00 3.400e+00 3.130e+00\n",
            " 3.300e+00 2.820e+00 1.036e+01 2.900e+00 1.273e+01 3.330e+00 3.460e+00\n",
            " 3.380e+00 3.830e+00 1.403e+01 3.450e+00 1.177e+01 7.490e+00 8.350e+00\n",
            " 1.288e+01 6.040e+00 1.308e+01 8.450e+00 3.320e+00 9.710e+00 6.140e+00\n",
            " 7.850e+00 3.250e+00 3.800e+00 3.940e+00 3.770e+00 3.710e+00 1.247e+01\n",
            " 3.360e+00 1.474e+01 3.700e+00 7.140e+00 3.840e+00 1.167e+01 6.740e+00\n",
            " 4.180e+00 4.560e+00 2.218e+01 3.810e+00 1.242e+01 4.140e+00 3.680e+00\n",
            " 3.900e+00 3.630e+00 3.600e+00 8.100e+00 3.270e+00 3.390e+00 6.090e+00\n",
            " 5.230e+00 6.240e+00 4.680e+00 8.700e+00 4.730e+00 5.990e+00 4.530e+00\n",
            " 6.340e+00 9.260e+00 8.300e+00 6.890e+00 1.000e-02 5.430e+00 1.076e+01\n",
            " 1.021e+01 1.011e+01 1.137e+01 5.030e+00 4.120e+00 7.390e+00 5.630e+00\n",
            " 6.540e+00 5.780e+00 4.780e+00 9.050e+00 5.330e+00 6.640e+00 5.380e+00\n",
            " 5.080e+00 6.440e+00 1.595e+01 3.550e+00 6.190e+00 8.400e+00 1.086e+01\n",
            " 5.890e+00 4.430e+00 8.750e+00 4.050e+00 3.880e+00 7.440e+00 4.090e+00\n",
            " 4.320e+00 8.800e+00 7.600e+00 1.237e+01 6.390e+00 7.240e+00 1.589e+01\n",
            " 1.147e+01 4.160e+00 4.250e+00 4.590e+00 4.220e+00 1.212e+01 3.190e+00\n",
            " 9.200e+00 3.690e+00 3.780e+00 1.303e+01 4.300e+00 4.420e+00 4.400e+00\n",
            " 3.730e+00 9.360e+00 1.217e+01 3.740e+00 1.469e+01 7.750e+00 1.600e+01\n",
            " 5.180e+00 1.097e+01 9.860e+00 8.050e+00 1.127e+01 9.910e+00 7.950e+00\n",
            " 7.700e+00 1.378e+01 1.328e+01 4.580e+00 9.960e+00 8.600e+00 7.540e+00\n",
            " 1.016e+01 1.967e+01 9.760e+00 7.800e+00 5.530e+00 1.102e+01 5.940e+00\n",
            " 2.067e+01 9.610e+00 4.630e+00 5.280e+00 1.539e+01 1.655e+01 4.310e+00\n",
            " 3.980e+00 1.670e+01 4.080e+00 1.268e+01 4.460e+00 4.570e+00 4.520e+00\n",
            " 5.730e+00 3.560e+00 8.250e+00 7.650e+00 4.380e+00 1.293e+01 2.118e+01\n",
            " 1.368e+01 9.150e+00 1.227e+01 1.162e+01 1.781e+01 1.444e+01 1.821e+01\n",
            " 1.353e+01 1.418e+01 1.423e+01 4.260e+00 4.640e+00 3.930e+00 4.190e+00\n",
            " 4.210e+00 4.500e+00 1.625e+01 9.510e+00 1.066e+01 4.440e+00 1.911e+01\n",
            " 4.760e+00 4.860e+00 4.790e+00 4.740e+00 4.870e+00 4.920e+00 4.820e+00\n",
            " 4.910e+00 4.450e+00 1.937e+01 6.790e+00 1.660e+01 1.152e+01 1.001e+01\n",
            " 1.051e+01 4.340e+00 1.579e+01 1.117e+01 9.310e+00 4.200e+00 1.258e+01\n",
            " 5.060e+00 5.170e+00 5.050e+00 4.660e+00 1.826e+01 1.393e+01 5.290e+00\n",
            " 5.140e+00 4.800e+00 4.270e+00 1.750e+01 1.499e+01 1.846e+01 1.454e+01\n",
            " 1.413e+01 1.735e+01 1.298e+01 4.610e+00 5.000e+00 1.529e+01 6.690e+00\n",
            " 1.323e+01 8.650e+00 1.776e+01 1.408e+01 1.610e+01 1.484e+01 1.635e+01\n",
            " 1.388e+01 1.092e+01 1.333e+01 9.560e+00 1.192e+01 1.479e+01 1.449e+01\n",
            " 4.620e+00 5.130e+00 1.278e+01 1.363e+01 1.222e+01 1.061e+01 9.660e+00\n",
            " 1.620e+01 5.240e+00 5.590e+00 5.600e+00 5.610e+00 5.550e+00 5.150e+00\n",
            " 1.720e+01 1.519e+01 1.906e+01 1.142e+01 1.252e+01 1.640e+01 2.153e+01\n",
            " 4.360e+00 1.429e+01 1.313e+01 4.700e+00 4.690e+00 4.470e+00 2.133e+01\n",
            " 2.032e+01 1.514e+01 1.504e+01 1.584e+01 1.650e+01 1.343e+01 1.348e+01\n",
            " 1.534e+01 1.202e+01 1.494e+01 1.373e+01 1.318e+01 1.338e+01 1.962e+01\n",
            " 1.358e+01 1.569e+01 4.720e+00 4.600e+00 1.871e+01 1.182e+01 1.665e+01\n",
            " 1.398e+01 1.187e+01 2.279e+01 1.992e+01 4.770e+00 2.103e+01 4.710e+00\n",
            " 4.840e+00 4.810e+00 4.990e+00 4.850e+00 1.876e+01 2.007e+01 1.439e+01\n",
            " 2.017e+01 1.554e+01 1.836e+01 4.650e+00 4.900e+00 5.110e+00 5.090e+00\n",
            " 5.070e+00 1.559e+01 1.107e+01 1.957e+01 1.766e+01 1.891e+01 1.071e+01\n",
            " 1.122e+01 1.232e+01 1.806e+01 1.564e+01 1.796e+01 1.434e+01 4.890e+00\n",
            " 2.299e+01 2.324e+01 1.263e+01 1.524e+01 4.550e+00 1.982e+01 1.942e+01\n",
            " 2.143e+01 1.574e+01 1.509e+01 1.725e+01 1.831e+01 1.755e+01 1.745e+01\n",
            " 0.000e+00 1.730e+01 1.786e+01 4.950e+00 1.740e+01 1.972e+01 1.549e+01\n",
            " 1.615e+01 1.896e+01 1.544e+01 2.309e+01 1.680e+01 1.630e+01 1.690e+01\n",
            " 1.459e+01 4.970e+00 1.705e+01 2.082e+01 1.801e+01 4.670e+00 2.319e+01\n",
            " 4.960e+00 4.750e+00 4.940e+00 1.947e+01 1.901e+01 1.771e+01 1.952e+01\n",
            " 1.695e+01 1.761e+01 1.841e+01 2.173e+01 1.700e+01 5.100e+00 5.260e+00\n",
            " 2.500e+01 1.881e+01 2.002e+01]\n"
          ]
        }
      ]
    },
    {
      "cell_type": "markdown",
      "source": [
        "### wind_deg"
      ],
      "metadata": {
        "id": "NcQ_WDfzxona"
      }
    },
    {
      "cell_type": "code",
      "source": [
        "print(train['wind_deg'].unique())"
      ],
      "metadata": {
        "colab": {
          "base_uri": "https://localhost:8080/"
        },
        "id": "QDj2hNRBxsW9",
        "outputId": "c89bd71e-4554-4fe7-a152-cb6bd793502b"
      },
      "execution_count": null,
      "outputs": [
        {
          "output_type": "stream",
          "name": "stdout",
          "text": [
            "['320.0 °' '338.0°' '339.0°' ... '503.0°' '286.71°' '437.61 °']\n"
          ]
        }
      ]
    },
    {
      "cell_type": "code",
      "source": [
        "# Menggunakan ekspresi reguler untuk membersihkan kolom 'wind_deg' dan mengonversi ke float\n",
        "train['wind_deg'] = train['wind_deg'].apply(lambda x: re.findall(r'\\d+\\.\\d+|\\d+', x))\n",
        "train['wind_deg'] = train['wind_deg'].apply(lambda x: float(x[0]) if x else 0.0)"
      ],
      "metadata": {
        "id": "f0s48Y0Kxz2t"
      },
      "execution_count": null,
      "outputs": []
    },
    {
      "cell_type": "code",
      "source": [
        "print(train['wind_deg'].unique())"
      ],
      "metadata": {
        "colab": {
          "base_uri": "https://localhost:8080/"
        },
        "id": "KSyarb2xxxhO",
        "outputId": "d32b9b42-c9ed-47f5-f8c5-3ea5d8e0765a"
      },
      "execution_count": null,
      "outputs": [
        {
          "output_type": "stream",
          "name": "stdout",
          "text": [
            "[3.20000e+02 3.38000e+02 3.39000e+02 3.42000e+02 3.36000e+02 7.00000e+00\n",
            " 3.09000e+02 2.91000e+02 2.85000e+02 2.94000e+02 3.60000e+01 1.00000e+01\n",
            " 3.29000e+02 3.25000e+02 3.05000e+02 3.01000e+02 2.96000e+02 3.11000e+02\n",
            " 2.81000e+02 2.67000e+02 2.89000e+02 2.87000e+02 3.26000e+02 3.24000e+02\n",
            " 2.93000e+02 2.45000e+02 2.12000e+02 2.01000e+02 2.07000e+02 2.22000e+02\n",
            " 2.03000e+02 2.82000e+02 3.50000e+01 4.30000e+01 4.60000e+01 4.80000e+01\n",
            " 2.70000e+01 3.46000e+02 3.40000e+02 3.22000e+02 3.17000e+02 3.08000e+02\n",
            " 3.19000e+02 3.27000e+02 3.47000e+02 3.00000e+01 6.00000e+01 1.70000e+02\n",
            " 1.86000e+02 1.57000e+02 1.56000e+02 1.64000e+02 2.47000e+02 2.27000e+02\n",
            " 2.37000e+02 2.23000e+02 2.51000e+02 2.72000e+02 3.23000e+02 3.37000e+02\n",
            " 3.33000e+02 1.63475e+03 3.31000e+02 3.35000e+02 3.28000e+02 3.32000e+02\n",
            " 8.90000e+01 1.26000e+02 1.39000e+02 1.23000e+02 8.40000e+01 6.80000e+01\n",
            " 1.46000e+02 1.38000e+02 3.02000e+02 3.15000e+02 3.18000e+02 3.10000e+02\n",
            " 3.14000e+02 3.12000e+02 2.55000e+02 1.33000e+02 8.00000e+01 1.18000e+02\n",
            " 8.50000e+01 1.90000e+01 3.48000e+02 3.41000e+02 3.50000e+02 3.43000e+02\n",
            " 3.34000e+02 3.57000e+02 2.00000e+01 1.20000e+02 2.13000e+02 1.83000e+02\n",
            " 8.70000e+01 7.50000e+01 3.90000e+01 2.20000e+01 2.99000e+02 2.74000e+02\n",
            " 2.75000e+02 3.03000e+02 3.07000e+02 3.04000e+02 3.58000e+02 1.00000e+00\n",
            " 1.30000e+01 1.30780e+03 2.83000e+02 2.64000e+02 5.00000e+00 3.16000e+02\n",
            " 3.51000e+02 3.45000e+02 3.44000e+02 2.97000e+02 9.30000e+01 1.11000e+02\n",
            " 9.80000e+01 9.60000e+01 6.20000e+01 3.30000e+02 0.00000e+00 3.52000e+02\n",
            " 3.53000e+02 3.59000e+02 3.49000e+02 1.66000e+02 1.42000e+02 1.19000e+02\n",
            " 4.90000e+01 4.40000e+01 3.10000e+01 1.70000e+01 3.21000e+02 2.90000e+01\n",
            " 3.20000e+01 2.20000e+02 2.02000e+02 2.28000e+02 1.71000e+02 1.59000e+02\n",
            " 1.62972e+03 2.69000e+02 2.78000e+02 3.54000e+02 8.00000e+00 2.50000e+01\n",
            " 9.00000e+01 1.75000e+02 1.63000e+02 2.65000e+02 2.62000e+02 2.92000e+02\n",
            " 2.86000e+02 2.80000e+01 1.47000e+02 1.69000e+02 1.41000e+02 1.15000e+02\n",
            " 3.70000e+01 2.40000e+01 6.10000e+01 1.78000e+02 1.41846e+03 2.70000e+02\n",
            " 2.80000e+02 1.44864e+03 1.40000e+01 9.50000e+01 9.90000e+01 1.13000e+02\n",
            " 7.80000e+01 1.08000e+02 1.77000e+02 1.97000e+02 1.94000e+02 1.92000e+02\n",
            " 2.54000e+02 3.06000e+02 1.50000e+01 3.56000e+02 2.98000e+02 1.60000e+01\n",
            " 1.17000e+02 7.10000e+01 4.00000e+00 3.00000e+00 6.00000e+00 2.30000e+01\n",
            " 5.60000e+01 1.20000e+01 8.80000e+01 4.52700e+02 1.34000e+02 7.90000e+01\n",
            " 3.30000e+01 3.13000e+02 3.60000e+02 2.10000e+01 5.20000e+01 2.84000e+02\n",
            " 1.16000e+02 1.25000e+02 1.27000e+02 9.00000e+00 7.70000e+01 1.28000e+02\n",
            " 1.68000e+02 2.00000e+02 1.80000e+01 1.02000e+02 1.06000e+02 9.70000e+01\n",
            " 9.10000e+01 7.00000e+01 6.90000e+01 4.10000e+01 5.10000e+01 5.90000e+01\n",
            " 4.00000e+01 4.70000e+01 1.10000e+01 3.40000e+01 1.86110e+02 4.50000e+01\n",
            " 5.00000e+01 6.60000e+01 2.00000e+00 3.55000e+02 5.40000e+01 5.80000e+01\n",
            " 5.50000e+01 1.05630e+02 1.10660e+02 4.20000e+01 5.30000e+01 3.80000e+01\n",
            " 3.01800e+01 1.79068e+03 6.53900e+01 3.57130e+02 2.35000e+02 2.88000e+02\n",
            " 2.90000e+02 2.39000e+02 1.67000e+02 1.01000e+02 1.40000e+02 1.07000e+02\n",
            " 1.95000e+02 2.53000e+02 1.89000e+02 2.60000e+01 2.59000e+02 2.05000e+02\n",
            " 1.76000e+02 1.85000e+02 6.50000e+01 1.71020e+02 7.40000e+01 1.72000e+02\n",
            " 8.20000e+01 2.24000e+02 2.40000e+02 2.36000e+02 2.52000e+02 2.57000e+02\n",
            " 1.35000e+02 1.93000e+02 1.79000e+02 7.60000e+01 1.55000e+02 1.96000e+02\n",
            " 1.73000e+02 2.31000e+02 2.46000e+02 1.32000e+02 1.60000e+02 1.62000e+02\n",
            " 2.38000e+02 2.73000e+02 2.71000e+02 2.61000e+02 2.56000e+02 2.95000e+02\n",
            " 1.65000e+02 1.03000e+02 1.00000e+02 8.30000e+01 1.76553e+03 6.40000e+01\n",
            " 7.20000e+01 7.30000e+01 8.50070e+02 1.36000e+02 1.30000e+02 1.05000e+02\n",
            " 2.14000e+02 2.50000e+02 2.48000e+02 1.33295e+03 6.70000e+01 1.54000e+02\n",
            " 2.25000e+02 2.33000e+02 2.76000e+02 3.00000e+02 1.54924e+03 9.40000e+01\n",
            " 5.70000e+01 8.10000e+01 1.64481e+03 2.60000e+02 2.41000e+02 1.52000e+02\n",
            " 2.63000e+02 2.77000e+02 1.21000e+02 1.43000e+02 1.31000e+02 7.24320e+02\n",
            " 1.24000e+02 1.04000e+02 2.26000e+02 2.68000e+02 1.37000e+02 1.74038e+03\n",
            " 8.60000e+01 1.76050e+03 1.22000e+02 1.44000e+02 2.04000e+02 2.49000e+02\n",
            " 2.34000e+02 2.42000e+02 1.61000e+02 1.35810e+03 1.80000e+02 1.88000e+02\n",
            " 1.29000e+02 2.79000e+02 1.46876e+03 1.48000e+02 1.50000e+02 2.32000e+02\n",
            " 2.66000e+02 2.44000e+02 2.19000e+02 2.10000e+02 1.09000e+02 6.30000e+01\n",
            " 1.99000e+02 1.42349e+03 1.12000e+02 9.20000e+01 1.74000e+02 1.58000e+02\n",
            " 1.84000e+02 1.77559e+03 2.29000e+02 2.30000e+02 1.14000e+02 1.81000e+02\n",
            " 1.10000e+02 2.71620e+02 1.45000e+02 3.97370e+02 3.72220e+02 3.01800e+02\n",
            " 1.98000e+02 6.74020e+02 9.30550e+02 4.27550e+02 2.15000e+02 1.22229e+03\n",
            " 2.21000e+02 1.45367e+03 2.16000e+02 2.18000e+02 2.11000e+02 6.23720e+02\n",
            " 2.17000e+02 2.08000e+02 1.91000e+02 1.51000e+02 1.53000e+02 1.82000e+02\n",
            " 2.43000e+02 2.58000e+02 1.50397e+03 1.90000e+02 6.28750e+02 9.05400e+02\n",
            " 4.12460e+02 2.06000e+02 2.01200e+02 3.26950e+02 1.37319e+03 1.45870e+03\n",
            " 1.80577e+03 1.47379e+03 2.09000e+02 1.02612e+03 8.04800e+02 1.49000e+02\n",
            " 8.90310e+02 7.89710e+02 1.51403e+03 1.66996e+03 1.28768e+03 1.36816e+03\n",
            " 7.84680e+02 1.28265e+03 1.87000e+02 9.85880e+02 1.49894e+03 1.59954e+03\n",
            " 1.18205e+03 1.76050e+02 1.06636e+03 1.13678e+03 1.30780e+02 1.53415e+03\n",
            " 8.80250e+02 9.55700e+02 7.44440e+02 5.78450e+02 8.70190e+02 1.16193e+03\n",
            " 1.15187e+03 1.08648e+03 9.75820e+02 8.95340e+02 1.08145e+03 9.65760e+02\n",
            " 8.14860e+02 7.19290e+02 1.03618e+03 1.12169e+03 1.19211e+03 9.00370e+02\n",
            " 2.86710e+02 1.32289e+03 3.87310e+02 4.22520e+02 5.68390e+02 5.88510e+02\n",
            " 1.12672e+03 1.01606e+03 1.46373e+03 1.20720e+02 9.15460e+02 1.01103e+03\n",
            " 1.00097e+03 9.60730e+02 1.04624e+03 1.27259e+03 8.55100e+02 8.85280e+02\n",
            " 1.55930e+03 5.28150e+02 1.41343e+03 1.44361e+03 7.04200e+01 9.90910e+02\n",
            " 3.11860e+02 5.33180e+02 3.82280e+02 1.03115e+03 8.65160e+02 8.40010e+02\n",
            " 1.57942e+03 1.05127e+03 1.13175e+03 1.14684e+03 1.74541e+03 1.68002e+03\n",
            " 1.68505e+03 1.53918e+03 1.52409e+03 1.06133e+03 1.22732e+03 4.02400e+01\n",
            " 1.66493e+03 1.00600e+03 9.55700e+01 1.61463e+03 9.05400e+01 9.80850e+02\n",
            " 1.00600e+01 4.37610e+02 1.77056e+03 2.11260e+02 3.62160e+02 1.59451e+03\n",
            " 5.83480e+02 1.42852e+03 1.02109e+03 7.09230e+02 6.99170e+02 5.48270e+02\n",
            " 3.67190e+02 3.31980e+02 2.16290e+02 4.67790e+02 1.79571e+03 7.99770e+02\n",
            " 1.07642e+03 1.17702e+03 9.20490e+02 8.75220e+02 1.04121e+03 1.11163e+03\n",
            " 1.18708e+03 1.17199e+03 1.48888e+03 1.29774e+03 1.37822e+03 1.07139e+03\n",
            " 1.10157e+03 7.39410e+02 5.03000e+02 4.97970e+02 7.64560e+02 1.15690e+03\n",
            " 9.50670e+02 1.11666e+03 7.49470e+02 7.79650e+02 9.35580e+02 4.62760e+02\n",
            " 7.29350e+02 7.59530e+02 7.14260e+02 1.40840e+02 1.35810e+02 1.39834e+03\n",
            " 1.26756e+03 1.43355e+03 3.37010e+02 1.70517e+03 1.05630e+03 1.50900e+03\n",
            " 2.31380e+02 1.20217e+03 1.48385e+03 1.67499e+03 9.40610e+02 2.26350e+02\n",
            " 2.81680e+02 8.04800e+01 7.94740e+02 1.73032e+03 5.03000e+01 1.71523e+03\n",
            " 1.81080e+02 6.03600e+01 4.17490e+02 2.61560e+02 4.47670e+02 1.40337e+03\n",
            " 1.62469e+03 1.56433e+03 5.53300e+01 6.38810e+02 1.20720e+03 1.51906e+03\n",
            " 1.16696e+03 5.23120e+02 5.53300e+02 1.15690e+02 1.39331e+03 1.60960e+02\n",
            " 1.58445e+03 9.95940e+02 8.45040e+02 9.25520e+02 3.52100e+02 1.10660e+03\n",
            " 5.93540e+02 1.56936e+03 1.09654e+03 8.60130e+02 1.61966e+03 7.69590e+02\n",
            " 8.29950e+02 1.09151e+03 1.36313e+03 1.29271e+03 1.80074e+03 1.55427e+03\n",
            " 1.50900e+01 1.71020e+03 1.63978e+03 1.75547e+03 2.66590e+02 1.60457e+03\n",
            " 1.43858e+03 1.78565e+03 1.54421e+03 1.24744e+03 1.52912e+03 6.79050e+02\n",
            " 6.18690e+02 1.65990e+02 8.34980e+02 3.06830e+02 7.34380e+02 9.45640e+02\n",
            " 5.98570e+02 6.53900e+02 6.63960e+02 8.09830e+02 7.74620e+02 1.72026e+03\n",
            " 1.65487e+03 4.07430e+02 2.36410e+02 1.60960e+03 1.50900e+02 1.96170e+02\n",
            " 2.51500e+01 1.91140e+02 1.75044e+03 2.46470e+02 6.48870e+02 4.77850e+02\n",
            " 5.18090e+02 3.21920e+02 1.55930e+02 1.69511e+03 2.91740e+02 5.63360e+02\n",
            " 9.70790e+02 1.27762e+03 1.19714e+03 9.10430e+02 1.14181e+03 1.24241e+03\n",
            " 5.08030e+02 1.58948e+03 1.73535e+03 5.73420e+02 1.21223e+03 1.81080e+03\n",
            " 1.25750e+02 1.45870e+02 3.52100e+01 2.51500e+02 2.96770e+02 2.76650e+02\n",
            " 2.56530e+02 1.00600e+02 1.31786e+03 1.25247e+03 4.92940e+02 5.13060e+02\n",
            " 6.43840e+02 6.33780e+02 8.19890e+02 1.34301e+03 1.70014e+03 1.34804e+03\n",
            " 1.69008e+03 1.32792e+03 1.38325e+03 1.49391e+03 1.31283e+03 1.47882e+03\n",
            " 2.06230e+02 1.21726e+03 1.30277e+03 1.26253e+03 6.94140e+02 8.55100e+01\n",
            " 5.43240e+02 4.52700e+01 5.58330e+02 6.84080e+02 7.54500e+01 1.33798e+03\n",
            " 4.72820e+02 2.41440e+02 1.57439e+03 5.03000e+00 2.01200e+01 1.40840e+03\n",
            " 1.72529e+03 3.16890e+02 3.92340e+02 7.04200e+02 5.38210e+02 1.78062e+03\n",
            " 3.77250e+02 4.87910e+02 6.68990e+02 7.54500e+02 1.23235e+03 1.23738e+03\n",
            " 1.64984e+03 4.32580e+02 1.65990e+03 8.24920e+02 4.42640e+02 6.58930e+02\n",
            " 1.35307e+03 1.25750e+03 4.82880e+02 6.89110e+02 3.47070e+02 6.03600e+02\n",
            " 4.02400e+02 1.38828e+03 2.21320e+02 6.13660e+02 3.42040e+02 4.57730e+02\n",
            " 6.08630e+02]\n"
          ]
        }
      ]
    },
    {
      "cell_type": "markdown",
      "source": [
        "### rain_3h"
      ],
      "metadata": {
        "id": "YUHa0OLoyHfV"
      }
    },
    {
      "cell_type": "code",
      "source": [
        "print(train['rain_3h'].unique())"
      ],
      "metadata": {
        "colab": {
          "base_uri": "https://localhost:8080/"
        },
        "id": "p8wHUo_2yPJt",
        "outputId": "5087847a-00ef-4aae-baf8-bfaec5e9502b"
      },
      "execution_count": null,
      "outputs": [
        {
          "output_type": "stream",
          "name": "stdout",
          "text": [
            "['0' 'volume:zero' 'nol' nan 'zero' '0 mm' '0 milimeter' 'no_rain'\n",
            " 'no-rain' 'volume:0' '0mm']\n"
          ]
        }
      ]
    },
    {
      "cell_type": "code",
      "source": [
        "print(train['snow_1h'].unique())"
      ],
      "metadata": {
        "colab": {
          "base_uri": "https://localhost:8080/"
        },
        "id": "XQXtl1sEymaC",
        "outputId": "8e4e9d56-77e8-4d39-8a97-bac41f9d5ddb"
      },
      "execution_count": null,
      "outputs": [
        {
          "output_type": "stream",
          "name": "stdout",
          "text": [
            "[nan '0' 'nol' 'volume:zero' '0mm' '0 mm' 'volume:0' 'zero' '0 milimeter'\n",
            " 'no-snow' 'no_snow']\n"
          ]
        }
      ]
    },
    {
      "cell_type": "code",
      "source": [
        "print(train['snow_3h'].unique())"
      ],
      "metadata": {
        "colab": {
          "base_uri": "https://localhost:8080/"
        },
        "id": "4MEifELeymuD",
        "outputId": "81278220-483f-4849-eb10-849b97989c29"
      },
      "execution_count": null,
      "outputs": [
        {
          "output_type": "stream",
          "name": "stdout",
          "text": [
            "[nan '0' 'no-snow' '0 mm' 'zero' 'volume:0' '0mm' 'no_snow' 'volume:zero'\n",
            " '0 milimeter' 'nol']\n"
          ]
        }
      ]
    },
    {
      "cell_type": "markdown",
      "source": [
        "disini dapat terlihat bahwa pada column 'rain_3h' 'snow_1h' dan 'snow_3h' tidak ada value yang berarti selain 0 sehingga column ini dapat drop"
      ],
      "metadata": {
        "id": "qnW-YoRAyy6h"
      }
    },
    {
      "cell_type": "code",
      "source": [
        "# drop column 'rain_3h' 'snow_1h' dan 'snow_3h'\n",
        "train.drop(['rain_3h', 'snow_1h', 'snow_3h'], axis=1, inplace=True)"
      ],
      "metadata": {
        "id": "aFy_trGWzi9G"
      },
      "execution_count": null,
      "outputs": []
    },
    {
      "cell_type": "markdown",
      "source": [
        "### clouds"
      ],
      "metadata": {
        "id": "fy75gUvAyxSR"
      }
    },
    {
      "cell_type": "code",
      "source": [
        "print(train['clouds'].unique())"
      ],
      "metadata": {
        "colab": {
          "base_uri": "https://localhost:8080/"
        },
        "id": "6PMQyBxcytty",
        "outputId": "7dec5494-6d00-483e-d53f-979e7840d2dc"
      },
      "execution_count": null,
      "outputs": [
        {
          "output_type": "stream",
          "name": "stdout",
          "text": [
            "['100' '99' '94' '95' '97' '92' '87' '100.00%' '98' '99.00%' '91.00%' '78'\n",
            " '80' '85' '91' '93' '77' '82.00%' '74' '45.00%' '45' '41' '46' '47' '40'\n",
            " '39' '27' '61' '53' '59.00%' '57' '62' '35' '50' '71' '83' '84' '67' '23'\n",
            " '19' '42.00%' '82' '96' '98.00%' '97.00%' '96.00%' '90' '73' '79'\n",
            " '89.00%' '70' '60' '55' '88' '76.00%' '89' '26' '31' '59' '68.00%' '66'\n",
            " '69' '94.00%' '93.00%' '72' '85.00%' '86' '32' '80.00%' '90.00%' '81'\n",
            " '30' '56' '49' '65' '87.00%' '38' '17' '0' '26.00%' '24.00%' '24' '48'\n",
            " '52' '64.00%' '58' '43' '9' '2' '3' '1.00%' '0.00%' '1' '10' '68'\n",
            " '70.00%' '69.00%' '92.00%' '95.00%' '63' '78.00%' '49.00%' '18' '12'\n",
            " '32.00%' '15.00%' '86.00%' '38.00%' '21' '25' '8' '28' '51' '44' '81.00%'\n",
            " '29' '84.00%' '21.00%' '79.00%' '42' '54.00%' '76' '83.00%' '54' '71.00%'\n",
            " '37' '52.00%' '46.00%' '66.00%' '88.00%' '64' '55.00%' '75' '65.00%'\n",
            " '58.00%' '74.00%' '62.00%' '20.00%' '34.00%' '75.00%' '34' '31.00%'\n",
            " '67.00%' '63.00%' '22' '36' '33' '43.00%' '60.00%' '14' '29.00%' '72.00%'\n",
            " '44.00%' '56.00%' '16.00%' '53.00%' '11' '13' '14.00%' '48.00%' '33.00%'\n",
            " '27.00%' '37.00%' '77.00%' '36.00%' '15' '16' '39.00%' '51.00%' '28.00%'\n",
            " '73.00%' '41.00%' '50.00%' '47.00%' '30.00%' '25.00%' '20' '18.00%'\n",
            " '7.00%' '6' '5' '22.00%' '61.00%' '40.00%' '17.00%' '35.00%' '57.00%'\n",
            " '23.00%' '19.00%' '4' '10.00%' '9.00%' '11.00%' '3.00%' '7' '5.00%'\n",
            " '8.00%' '12.00%' '2.00%' '4.00%' '6.00%' '13.00%']\n"
          ]
        }
      ]
    },
    {
      "cell_type": "code",
      "source": [
        "# Menggunakan ekspresi reguler untuk membersihkan kolom 'clouds' dan mengonversi ke float\n",
        "train['clouds'] = train['clouds'].apply(lambda x: re.findall(r'\\d+\\.\\d+|\\d+', x))\n",
        "train['clouds'] = train['clouds'].apply(lambda x: float(x[0]) if x else 0.0)"
      ],
      "metadata": {
        "id": "9xFrqvNNzzDV"
      },
      "execution_count": null,
      "outputs": []
    },
    {
      "cell_type": "code",
      "source": [
        "print(train['clouds'].unique())"
      ],
      "metadata": {
        "colab": {
          "base_uri": "https://localhost:8080/"
        },
        "id": "-JnsJrWjz551",
        "outputId": "f97abb8b-8eb6-4d4a-f248-9ea303542d0d"
      },
      "execution_count": null,
      "outputs": [
        {
          "output_type": "stream",
          "name": "stdout",
          "text": [
            "[100.  99.  94.  95.  97.  92.  87.  98.  91.  78.  80.  85.  93.  77.\n",
            "  82.  74.  45.  41.  46.  47.  40.  39.  27.  61.  53.  59.  57.  62.\n",
            "  35.  50.  71.  83.  84.  67.  23.  19.  42.  96.  90.  73.  79.  89.\n",
            "  70.  60.  55.  88.  76.  26.  31.  68.  66.  69.  72.  86.  32.  81.\n",
            "  30.  56.  49.  65.  38.  17.   0.  24.  48.  52.  64.  58.  43.   9.\n",
            "   2.   3.   1.  10.  63.  18.  12.  15.  21.  25.   8.  28.  51.  44.\n",
            "  29.  54.  37.  75.  20.  34.  22.  36.  33.  14.  16.  11.  13.   7.\n",
            "   6.   5.   4.]\n"
          ]
        }
      ]
    },
    {
      "cell_type": "code",
      "source": [
        "train"
      ],
      "metadata": {
        "colab": {
          "base_uri": "https://localhost:8080/",
          "height": 455
        },
        "id": "fDWWZvJl0jJ2",
        "outputId": "f8d47ddc-1cb0-41de-d24b-a9062b53f5c0"
      },
      "execution_count": null,
      "outputs": [
        {
          "output_type": "execute_result",
          "data": {
            "text/plain": [
              "                            temp  visibility  d_point   feels  min_temp  \\\n",
              "datetime_iso                                                              \n",
              "1979-01-01 00:00:00+00:00  24.75           0    23.89   25.76     24.28   \n",
              "1979-01-01 01:00:00+00:00  24.58           0    23.73   25.57     23.99   \n",
              "1979-01-01 02:00:00+00:00  26.60           0    24.06   26.60     26.10   \n",
              "1979-01-01 03:00:00+00:00  27.31           0    24.37   30.90     26.59   \n",
              "1979-01-01 04:00:00+00:00  27.41           0    25.05   31.54     26.58   \n",
              "...                          ...         ...      ...     ...       ...   \n",
              "2017-12-31 19:00:00+00:00  25.06           0    24.55  131.53     24.44   \n",
              "2017-12-31 20:00:00+00:00  24.51           0    24.17   25.58     23.89   \n",
              "2017-12-31 21:00:00+00:00  24.63           0    24.29  129.32     24.00   \n",
              "2017-12-31 22:00:00+00:00  26.68           0    24.71   29.76     25.02   \n",
              "2017-12-31 23:00:00+00:00  26.49           0    24.90   26.49     26.02   \n",
              "\n",
              "                           max_temp   prssr  sea_level  grnd_level   hum  \\\n",
              "datetime_iso                                                               \n",
              "1979-01-01 00:00:00+00:00     25.22  1012.0          0           0  95.0   \n",
              "1979-01-01 01:00:00+00:00     25.26  1012.0          0           0  95.0   \n",
              "1979-01-01 02:00:00+00:00     27.39  1012.0          0           0  86.0   \n",
              "1979-01-01 03:00:00+00:00     28.36  1012.0          0           0  84.0   \n",
              "1979-01-01 04:00:00+00:00     28.31  1011.0          0           0  87.0   \n",
              "...                             ...     ...        ...         ...   ...   \n",
              "2017-12-31 19:00:00+00:00     25.69  1007.0          0           0  97.0   \n",
              "2017-12-31 20:00:00+00:00     25.13  1006.0          0           0  98.0   \n",
              "2017-12-31 21:00:00+00:00    126.96  1007.0          0           0  98.0   \n",
              "2017-12-31 22:00:00+00:00     27.25  1008.0          0           0  89.0   \n",
              "2017-12-31 23:00:00+00:00     27.09  1008.0          0           0  91.0   \n",
              "\n",
              "                           wind_spd  wind_deg  rain_1h  clouds  \n",
              "datetime_iso                                                    \n",
              "1979-01-01 00:00:00+00:00      0.82     320.0     0.00   100.0  \n",
              "1979-01-01 01:00:00+00:00      0.96     338.0     0.00   100.0  \n",
              "1979-01-01 02:00:00+00:00      1.22     339.0     0.00    99.0  \n",
              "1979-01-01 03:00:00+00:00      1.08     342.0     0.13    94.0  \n",
              "1979-01-01 04:00:00+00:00      0.86     336.0     0.34   100.0  \n",
              "...                             ...       ...      ...     ...  \n",
              "2017-12-31 19:00:00+00:00      0.90      13.0     0.00    99.0  \n",
              "2017-12-31 20:00:00+00:00      0.85      21.0     0.00   100.0  \n",
              "2017-12-31 21:00:00+00:00      1.54      26.0     0.00    97.0  \n",
              "2017-12-31 22:00:00+00:00      1.46      17.0     0.30    98.0  \n",
              "2017-12-31 23:00:00+00:00      1.56       6.0     0.19    99.0  \n",
              "\n",
              "[341880 rows x 14 columns]"
            ],
            "text/html": [
              "\n",
              "  <div id=\"df-07dfb380-6246-4bbe-a9af-2a09265446d5\" class=\"colab-df-container\">\n",
              "    <div>\n",
              "<style scoped>\n",
              "    .dataframe tbody tr th:only-of-type {\n",
              "        vertical-align: middle;\n",
              "    }\n",
              "\n",
              "    .dataframe tbody tr th {\n",
              "        vertical-align: top;\n",
              "    }\n",
              "\n",
              "    .dataframe thead th {\n",
              "        text-align: right;\n",
              "    }\n",
              "</style>\n",
              "<table border=\"1\" class=\"dataframe\">\n",
              "  <thead>\n",
              "    <tr style=\"text-align: right;\">\n",
              "      <th></th>\n",
              "      <th>temp</th>\n",
              "      <th>visibility</th>\n",
              "      <th>d_point</th>\n",
              "      <th>feels</th>\n",
              "      <th>min_temp</th>\n",
              "      <th>max_temp</th>\n",
              "      <th>prssr</th>\n",
              "      <th>sea_level</th>\n",
              "      <th>grnd_level</th>\n",
              "      <th>hum</th>\n",
              "      <th>wind_spd</th>\n",
              "      <th>wind_deg</th>\n",
              "      <th>rain_1h</th>\n",
              "      <th>clouds</th>\n",
              "    </tr>\n",
              "    <tr>\n",
              "      <th>datetime_iso</th>\n",
              "      <th></th>\n",
              "      <th></th>\n",
              "      <th></th>\n",
              "      <th></th>\n",
              "      <th></th>\n",
              "      <th></th>\n",
              "      <th></th>\n",
              "      <th></th>\n",
              "      <th></th>\n",
              "      <th></th>\n",
              "      <th></th>\n",
              "      <th></th>\n",
              "      <th></th>\n",
              "      <th></th>\n",
              "    </tr>\n",
              "  </thead>\n",
              "  <tbody>\n",
              "    <tr>\n",
              "      <th>1979-01-01 00:00:00+00:00</th>\n",
              "      <td>24.75</td>\n",
              "      <td>0</td>\n",
              "      <td>23.89</td>\n",
              "      <td>25.76</td>\n",
              "      <td>24.28</td>\n",
              "      <td>25.22</td>\n",
              "      <td>1012.0</td>\n",
              "      <td>0</td>\n",
              "      <td>0</td>\n",
              "      <td>95.0</td>\n",
              "      <td>0.82</td>\n",
              "      <td>320.0</td>\n",
              "      <td>0.00</td>\n",
              "      <td>100.0</td>\n",
              "    </tr>\n",
              "    <tr>\n",
              "      <th>1979-01-01 01:00:00+00:00</th>\n",
              "      <td>24.58</td>\n",
              "      <td>0</td>\n",
              "      <td>23.73</td>\n",
              "      <td>25.57</td>\n",
              "      <td>23.99</td>\n",
              "      <td>25.26</td>\n",
              "      <td>1012.0</td>\n",
              "      <td>0</td>\n",
              "      <td>0</td>\n",
              "      <td>95.0</td>\n",
              "      <td>0.96</td>\n",
              "      <td>338.0</td>\n",
              "      <td>0.00</td>\n",
              "      <td>100.0</td>\n",
              "    </tr>\n",
              "    <tr>\n",
              "      <th>1979-01-01 02:00:00+00:00</th>\n",
              "      <td>26.60</td>\n",
              "      <td>0</td>\n",
              "      <td>24.06</td>\n",
              "      <td>26.60</td>\n",
              "      <td>26.10</td>\n",
              "      <td>27.39</td>\n",
              "      <td>1012.0</td>\n",
              "      <td>0</td>\n",
              "      <td>0</td>\n",
              "      <td>86.0</td>\n",
              "      <td>1.22</td>\n",
              "      <td>339.0</td>\n",
              "      <td>0.00</td>\n",
              "      <td>99.0</td>\n",
              "    </tr>\n",
              "    <tr>\n",
              "      <th>1979-01-01 03:00:00+00:00</th>\n",
              "      <td>27.31</td>\n",
              "      <td>0</td>\n",
              "      <td>24.37</td>\n",
              "      <td>30.90</td>\n",
              "      <td>26.59</td>\n",
              "      <td>28.36</td>\n",
              "      <td>1012.0</td>\n",
              "      <td>0</td>\n",
              "      <td>0</td>\n",
              "      <td>84.0</td>\n",
              "      <td>1.08</td>\n",
              "      <td>342.0</td>\n",
              "      <td>0.13</td>\n",
              "      <td>94.0</td>\n",
              "    </tr>\n",
              "    <tr>\n",
              "      <th>1979-01-01 04:00:00+00:00</th>\n",
              "      <td>27.41</td>\n",
              "      <td>0</td>\n",
              "      <td>25.05</td>\n",
              "      <td>31.54</td>\n",
              "      <td>26.58</td>\n",
              "      <td>28.31</td>\n",
              "      <td>1011.0</td>\n",
              "      <td>0</td>\n",
              "      <td>0</td>\n",
              "      <td>87.0</td>\n",
              "      <td>0.86</td>\n",
              "      <td>336.0</td>\n",
              "      <td>0.34</td>\n",
              "      <td>100.0</td>\n",
              "    </tr>\n",
              "    <tr>\n",
              "      <th>...</th>\n",
              "      <td>...</td>\n",
              "      <td>...</td>\n",
              "      <td>...</td>\n",
              "      <td>...</td>\n",
              "      <td>...</td>\n",
              "      <td>...</td>\n",
              "      <td>...</td>\n",
              "      <td>...</td>\n",
              "      <td>...</td>\n",
              "      <td>...</td>\n",
              "      <td>...</td>\n",
              "      <td>...</td>\n",
              "      <td>...</td>\n",
              "      <td>...</td>\n",
              "    </tr>\n",
              "    <tr>\n",
              "      <th>2017-12-31 19:00:00+00:00</th>\n",
              "      <td>25.06</td>\n",
              "      <td>0</td>\n",
              "      <td>24.55</td>\n",
              "      <td>131.53</td>\n",
              "      <td>24.44</td>\n",
              "      <td>25.69</td>\n",
              "      <td>1007.0</td>\n",
              "      <td>0</td>\n",
              "      <td>0</td>\n",
              "      <td>97.0</td>\n",
              "      <td>0.90</td>\n",
              "      <td>13.0</td>\n",
              "      <td>0.00</td>\n",
              "      <td>99.0</td>\n",
              "    </tr>\n",
              "    <tr>\n",
              "      <th>2017-12-31 20:00:00+00:00</th>\n",
              "      <td>24.51</td>\n",
              "      <td>0</td>\n",
              "      <td>24.17</td>\n",
              "      <td>25.58</td>\n",
              "      <td>23.89</td>\n",
              "      <td>25.13</td>\n",
              "      <td>1006.0</td>\n",
              "      <td>0</td>\n",
              "      <td>0</td>\n",
              "      <td>98.0</td>\n",
              "      <td>0.85</td>\n",
              "      <td>21.0</td>\n",
              "      <td>0.00</td>\n",
              "      <td>100.0</td>\n",
              "    </tr>\n",
              "    <tr>\n",
              "      <th>2017-12-31 21:00:00+00:00</th>\n",
              "      <td>24.63</td>\n",
              "      <td>0</td>\n",
              "      <td>24.29</td>\n",
              "      <td>129.32</td>\n",
              "      <td>24.00</td>\n",
              "      <td>126.96</td>\n",
              "      <td>1007.0</td>\n",
              "      <td>0</td>\n",
              "      <td>0</td>\n",
              "      <td>98.0</td>\n",
              "      <td>1.54</td>\n",
              "      <td>26.0</td>\n",
              "      <td>0.00</td>\n",
              "      <td>97.0</td>\n",
              "    </tr>\n",
              "    <tr>\n",
              "      <th>2017-12-31 22:00:00+00:00</th>\n",
              "      <td>26.68</td>\n",
              "      <td>0</td>\n",
              "      <td>24.71</td>\n",
              "      <td>29.76</td>\n",
              "      <td>25.02</td>\n",
              "      <td>27.25</td>\n",
              "      <td>1008.0</td>\n",
              "      <td>0</td>\n",
              "      <td>0</td>\n",
              "      <td>89.0</td>\n",
              "      <td>1.46</td>\n",
              "      <td>17.0</td>\n",
              "      <td>0.30</td>\n",
              "      <td>98.0</td>\n",
              "    </tr>\n",
              "    <tr>\n",
              "      <th>2017-12-31 23:00:00+00:00</th>\n",
              "      <td>26.49</td>\n",
              "      <td>0</td>\n",
              "      <td>24.90</td>\n",
              "      <td>26.49</td>\n",
              "      <td>26.02</td>\n",
              "      <td>27.09</td>\n",
              "      <td>1008.0</td>\n",
              "      <td>0</td>\n",
              "      <td>0</td>\n",
              "      <td>91.0</td>\n",
              "      <td>1.56</td>\n",
              "      <td>6.0</td>\n",
              "      <td>0.19</td>\n",
              "      <td>99.0</td>\n",
              "    </tr>\n",
              "  </tbody>\n",
              "</table>\n",
              "<p>341880 rows × 14 columns</p>\n",
              "</div>\n",
              "    <div class=\"colab-df-buttons\">\n",
              "\n",
              "  <div class=\"colab-df-container\">\n",
              "    <button class=\"colab-df-convert\" onclick=\"convertToInteractive('df-07dfb380-6246-4bbe-a9af-2a09265446d5')\"\n",
              "            title=\"Convert this dataframe to an interactive table.\"\n",
              "            style=\"display:none;\">\n",
              "\n",
              "  <svg xmlns=\"http://www.w3.org/2000/svg\" height=\"24px\" viewBox=\"0 -960 960 960\">\n",
              "    <path d=\"M120-120v-720h720v720H120Zm60-500h600v-160H180v160Zm220 220h160v-160H400v160Zm0 220h160v-160H400v160ZM180-400h160v-160H180v160Zm440 0h160v-160H620v160ZM180-180h160v-160H180v160Zm440 0h160v-160H620v160Z\"/>\n",
              "  </svg>\n",
              "    </button>\n",
              "\n",
              "  <style>\n",
              "    .colab-df-container {\n",
              "      display:flex;\n",
              "      gap: 12px;\n",
              "    }\n",
              "\n",
              "    .colab-df-convert {\n",
              "      background-color: #E8F0FE;\n",
              "      border: none;\n",
              "      border-radius: 50%;\n",
              "      cursor: pointer;\n",
              "      display: none;\n",
              "      fill: #1967D2;\n",
              "      height: 32px;\n",
              "      padding: 0 0 0 0;\n",
              "      width: 32px;\n",
              "    }\n",
              "\n",
              "    .colab-df-convert:hover {\n",
              "      background-color: #E2EBFA;\n",
              "      box-shadow: 0px 1px 2px rgba(60, 64, 67, 0.3), 0px 1px 3px 1px rgba(60, 64, 67, 0.15);\n",
              "      fill: #174EA6;\n",
              "    }\n",
              "\n",
              "    .colab-df-buttons div {\n",
              "      margin-bottom: 4px;\n",
              "    }\n",
              "\n",
              "    [theme=dark] .colab-df-convert {\n",
              "      background-color: #3B4455;\n",
              "      fill: #D2E3FC;\n",
              "    }\n",
              "\n",
              "    [theme=dark] .colab-df-convert:hover {\n",
              "      background-color: #434B5C;\n",
              "      box-shadow: 0px 1px 3px 1px rgba(0, 0, 0, 0.15);\n",
              "      filter: drop-shadow(0px 1px 2px rgba(0, 0, 0, 0.3));\n",
              "      fill: #FFFFFF;\n",
              "    }\n",
              "  </style>\n",
              "\n",
              "    <script>\n",
              "      const buttonEl =\n",
              "        document.querySelector('#df-07dfb380-6246-4bbe-a9af-2a09265446d5 button.colab-df-convert');\n",
              "      buttonEl.style.display =\n",
              "        google.colab.kernel.accessAllowed ? 'block' : 'none';\n",
              "\n",
              "      async function convertToInteractive(key) {\n",
              "        const element = document.querySelector('#df-07dfb380-6246-4bbe-a9af-2a09265446d5');\n",
              "        const dataTable =\n",
              "          await google.colab.kernel.invokeFunction('convertToInteractive',\n",
              "                                                    [key], {});\n",
              "        if (!dataTable) return;\n",
              "\n",
              "        const docLinkHtml = 'Like what you see? Visit the ' +\n",
              "          '<a target=\"_blank\" href=https://colab.research.google.com/notebooks/data_table.ipynb>data table notebook</a>'\n",
              "          + ' to learn more about interactive tables.';\n",
              "        element.innerHTML = '';\n",
              "        dataTable['output_type'] = 'display_data';\n",
              "        await google.colab.output.renderOutput(dataTable, element);\n",
              "        const docLink = document.createElement('div');\n",
              "        docLink.innerHTML = docLinkHtml;\n",
              "        element.appendChild(docLink);\n",
              "      }\n",
              "    </script>\n",
              "  </div>\n",
              "\n",
              "\n",
              "<div id=\"df-a8ca1ec4-e742-458d-ad4f-846d949f36c1\">\n",
              "  <button class=\"colab-df-quickchart\" onclick=\"quickchart('df-a8ca1ec4-e742-458d-ad4f-846d949f36c1')\"\n",
              "            title=\"Suggest charts.\"\n",
              "            style=\"display:none;\">\n",
              "\n",
              "<svg xmlns=\"http://www.w3.org/2000/svg\" height=\"24px\"viewBox=\"0 0 24 24\"\n",
              "     width=\"24px\">\n",
              "    <g>\n",
              "        <path d=\"M19 3H5c-1.1 0-2 .9-2 2v14c0 1.1.9 2 2 2h14c1.1 0 2-.9 2-2V5c0-1.1-.9-2-2-2zM9 17H7v-7h2v7zm4 0h-2V7h2v10zm4 0h-2v-4h2v4z\"/>\n",
              "    </g>\n",
              "</svg>\n",
              "  </button>\n",
              "\n",
              "<style>\n",
              "  .colab-df-quickchart {\n",
              "      --bg-color: #E8F0FE;\n",
              "      --fill-color: #1967D2;\n",
              "      --hover-bg-color: #E2EBFA;\n",
              "      --hover-fill-color: #174EA6;\n",
              "      --disabled-fill-color: #AAA;\n",
              "      --disabled-bg-color: #DDD;\n",
              "  }\n",
              "\n",
              "  [theme=dark] .colab-df-quickchart {\n",
              "      --bg-color: #3B4455;\n",
              "      --fill-color: #D2E3FC;\n",
              "      --hover-bg-color: #434B5C;\n",
              "      --hover-fill-color: #FFFFFF;\n",
              "      --disabled-bg-color: #3B4455;\n",
              "      --disabled-fill-color: #666;\n",
              "  }\n",
              "\n",
              "  .colab-df-quickchart {\n",
              "    background-color: var(--bg-color);\n",
              "    border: none;\n",
              "    border-radius: 50%;\n",
              "    cursor: pointer;\n",
              "    display: none;\n",
              "    fill: var(--fill-color);\n",
              "    height: 32px;\n",
              "    padding: 0;\n",
              "    width: 32px;\n",
              "  }\n",
              "\n",
              "  .colab-df-quickchart:hover {\n",
              "    background-color: var(--hover-bg-color);\n",
              "    box-shadow: 0 1px 2px rgba(60, 64, 67, 0.3), 0 1px 3px 1px rgba(60, 64, 67, 0.15);\n",
              "    fill: var(--button-hover-fill-color);\n",
              "  }\n",
              "\n",
              "  .colab-df-quickchart-complete:disabled,\n",
              "  .colab-df-quickchart-complete:disabled:hover {\n",
              "    background-color: var(--disabled-bg-color);\n",
              "    fill: var(--disabled-fill-color);\n",
              "    box-shadow: none;\n",
              "  }\n",
              "\n",
              "  .colab-df-spinner {\n",
              "    border: 2px solid var(--fill-color);\n",
              "    border-color: transparent;\n",
              "    border-bottom-color: var(--fill-color);\n",
              "    animation:\n",
              "      spin 1s steps(1) infinite;\n",
              "  }\n",
              "\n",
              "  @keyframes spin {\n",
              "    0% {\n",
              "      border-color: transparent;\n",
              "      border-bottom-color: var(--fill-color);\n",
              "      border-left-color: var(--fill-color);\n",
              "    }\n",
              "    20% {\n",
              "      border-color: transparent;\n",
              "      border-left-color: var(--fill-color);\n",
              "      border-top-color: var(--fill-color);\n",
              "    }\n",
              "    30% {\n",
              "      border-color: transparent;\n",
              "      border-left-color: var(--fill-color);\n",
              "      border-top-color: var(--fill-color);\n",
              "      border-right-color: var(--fill-color);\n",
              "    }\n",
              "    40% {\n",
              "      border-color: transparent;\n",
              "      border-right-color: var(--fill-color);\n",
              "      border-top-color: var(--fill-color);\n",
              "    }\n",
              "    60% {\n",
              "      border-color: transparent;\n",
              "      border-right-color: var(--fill-color);\n",
              "    }\n",
              "    80% {\n",
              "      border-color: transparent;\n",
              "      border-right-color: var(--fill-color);\n",
              "      border-bottom-color: var(--fill-color);\n",
              "    }\n",
              "    90% {\n",
              "      border-color: transparent;\n",
              "      border-bottom-color: var(--fill-color);\n",
              "    }\n",
              "  }\n",
              "</style>\n",
              "\n",
              "  <script>\n",
              "    async function quickchart(key) {\n",
              "      const quickchartButtonEl =\n",
              "        document.querySelector('#' + key + ' button');\n",
              "      quickchartButtonEl.disabled = true;  // To prevent multiple clicks.\n",
              "      quickchartButtonEl.classList.add('colab-df-spinner');\n",
              "      try {\n",
              "        const charts = await google.colab.kernel.invokeFunction(\n",
              "            'suggestCharts', [key], {});\n",
              "      } catch (error) {\n",
              "        console.error('Error during call to suggestCharts:', error);\n",
              "      }\n",
              "      quickchartButtonEl.classList.remove('colab-df-spinner');\n",
              "      quickchartButtonEl.classList.add('colab-df-quickchart-complete');\n",
              "    }\n",
              "    (() => {\n",
              "      let quickchartButtonEl =\n",
              "        document.querySelector('#df-a8ca1ec4-e742-458d-ad4f-846d949f36c1 button');\n",
              "      quickchartButtonEl.style.display =\n",
              "        google.colab.kernel.accessAllowed ? 'block' : 'none';\n",
              "    })();\n",
              "  </script>\n",
              "</div>\n",
              "    </div>\n",
              "  </div>\n"
            ]
          },
          "metadata": {},
          "execution_count": 126
        }
      ]
    },
    {
      "cell_type": "code",
      "source": [
        "# melihat korelasi antar kolom\n",
        "plt.figure(figsize=(10, 8))\n",
        "correlation_matrix = train.corr().round(2)\n",
        "sns.heatmap(data=correlation_matrix, annot=True, cmap='coolwarm', linewidths=0.5, )\n",
        "plt.title(\"Correlation Matrix\", size=20)"
      ],
      "metadata": {
        "colab": {
          "base_uri": "https://localhost:8080/",
          "height": 783
        },
        "id": "9XeuA8q17wF9",
        "outputId": "0330c890-929d-42ae-8944-acaa54566d42"
      },
      "execution_count": null,
      "outputs": [
        {
          "output_type": "execute_result",
          "data": {
            "text/plain": [
              "Text(0.5, 1.0, 'Correlation Matrix')"
            ]
          },
          "metadata": {},
          "execution_count": 127
        },
        {
          "output_type": "display_data",
          "data": {
            "text/plain": [
              "<Figure size 1000x800 with 2 Axes>"
            ],
            "image/png": "[encoded data removed]"
          },
          "metadata": {}
        }
      ]
    },
    {
      "cell_type": "markdown",
      "source": [
        "dari matriks korelasi diatas terlihat bahwa kolom 'visibility', 'prssr', 'sea_level', dan 'grnd_level' memiliki korelasi sebesar 0 ini berarti kolom tersebut tidak memiliki pengaruh yang berarti terhadap target 'rain_1h' sehingga kolom tersebut dapat didrop"
      ],
      "metadata": {
        "id": "6Yz7kvMgsi3O"
      }
    },
    {
      "cell_type": "code",
      "source": [
        "train.drop(['visibility', 'prssr', 'sea_level','grnd_level'], axis=1, inplace=True)"
      ],
      "metadata": {
        "id": "F8oSQKJf8C41"
      },
      "execution_count": null,
      "outputs": []
    },
    {
      "cell_type": "code",
      "source": [
        "# melihat tren pola curah hujan 'rain_1h'\n",
        "plt.figure(figsize=(15,5))\n",
        "plt.plot(train.index, train['rain_1h'])\n",
        "plt.xlabel('Waktu')\n",
        "plt.ylabel('Curah Hujan (mm)')\n",
        "plt.title('Data Curah Hujan')\n",
        "plt.show()"
      ],
      "metadata": {
        "colab": {
          "base_uri": "https://localhost:8080/",
          "height": 487
        },
        "id": "YNVbAo-AG_yQ",
        "outputId": "42347a9a-60bd-4d20-9829-900f4ee245de"
      },
      "execution_count": null,
      "outputs": [
        {
          "output_type": "display_data",
          "data": {
            "text/plain": [
              "<Figure size 1500x500 with 1 Axes>"
            ],
            "image/png": "[encoded data removed]"
          },
          "metadata": {}
        }
      ]
    },
    {
      "cell_type": "code",
      "source": [
        "# melihat tren curah hujan dalam 1 tahun terakhir\n",
        "year_to_plot = '2017'\n",
        "filtered_data = train.loc[train.index.year == int(year_to_plot)]\n",
        "plt.figure(figsize=(15, 5))\n",
        "plt.plot(filtered_data.index, filtered_data['rain_1h'])\n",
        "plt.xlabel('Waktu')\n",
        "plt.ylabel('Curah Hujan (mm)')\n",
        "plt.title('Data Curah Hujan Tahun ' + year_to_plot)\n",
        "plt.show()"
      ],
      "metadata": {
        "colab": {
          "base_uri": "https://localhost:8080/",
          "height": 487
        },
        "id": "o6JKEm3vtVhp",
        "outputId": "419e4ae7-e607-4210-8da9-f512f6e00eb1"
      },
      "execution_count": null,
      "outputs": [
        {
          "output_type": "display_data",
          "data": {
            "text/plain": [
              "<Figure size 1500x500 with 1 Axes>"
            ],
            "image/png": "[encoded data removed]"
          },
          "metadata": {}
        }
      ]
    },
    {
      "cell_type": "code",
      "source": [
        "train.to_csv('pre-processed_train.csv')"
      ],
      "metadata": {
        "id": "sxoHQ-Hfg0Su"
      },
      "execution_count": null,
      "outputs": []
    },
    {
      "cell_type": "markdown",
      "source": [
        "# modelling"
      ],
      "metadata": {
        "id": "WpKzouut87yK"
      }
    },
    {
      "cell_type": "code",
      "source": [
        "X = train.drop([\"rain_1h\"], axis=1)\n",
        "y = train[\"rain_1h\"]\n",
        "\n",
        "# membagi data untuk train dan test\n",
        "X_train, X_test, y_train, y_test = train_test_split(X, y, test_size = 0.1, random_state = 42)\n",
        "\n",
        "X.shape"
      ],
      "metadata": {
        "colab": {
          "base_uri": "https://localhost:8080/"
        },
        "id": "LtQqV0D-87W1",
        "outputId": "b6230466-2f9b-4fe3-f972-472cf673526a"
      },
      "execution_count": null,
      "outputs": [
        {
          "output_type": "execute_result",
          "data": {
            "text/plain": [
              "(341880, 9)"
            ]
          },
          "metadata": {},
          "execution_count": 131
        }
      ]
    },
    {
      "cell_type": "code",
      "source": [
        "X_train.shape"
      ],
      "metadata": {
        "colab": {
          "base_uri": "https://localhost:8080/"
        },
        "id": "w9msVxhV9MY9",
        "outputId": "af73e5f1-b19e-4c3f-afd0-cc412190ef7b"
      },
      "execution_count": null,
      "outputs": [
        {
          "output_type": "execute_result",
          "data": {
            "text/plain": [
              "(307692, 9)"
            ]
          },
          "metadata": {},
          "execution_count": 132
        }
      ]
    },
    {
      "cell_type": "code",
      "source": [
        "!pip install --upgrade lightgbm"
      ],
      "metadata": {
        "colab": {
          "base_uri": "https://localhost:8080/"
        },
        "id": "1A6qs_RDqx4-",
        "outputId": "8ba90032-ac2d-4cdb-8421-ff0e2d1ef3d1"
      },
      "execution_count": null,
      "outputs": [
        {
          "output_type": "stream",
          "name": "stdout",
          "text": [
            "Requirement already satisfied: lightgbm in /usr/local/lib/python3.10/dist-packages (4.1.0)\n",
            "Requirement already satisfied: numpy in /usr/local/lib/python3.10/dist-packages (from lightgbm) (1.23.5)\n",
            "Requirement already satisfied: scipy in /usr/local/lib/python3.10/dist-packages (from lightgbm) (1.11.2)\n"
          ]
        }
      ]
    },
    {
      "cell_type": "code",
      "source": [
        "# Membuat dataset LightGBM\n",
        "train_data = lgb.Dataset(X_train, label=y_train)\n",
        "test_data = lgb.Dataset(X_test, label=y_test, reference=train_data)\n",
        "\n",
        "# Parameter untuk model LightGBM\n",
        "params = {\n",
        "    'objective': 'regression',\n",
        "    'metric': 'rmse',\n",
        "    'subsample': 0.7, 'num_leaves': 310, 'min_child_samples': 180,\n",
        "    'max_depth': 14, 'learning_rate': 0.05, 'colsample_bytree': 0.7\n",
        "}\n",
        "\n",
        "# Melatih model LightGBM\n",
        "num_round = 100\n",
        "bst = lgb.train(params, train_data, num_round, valid_sets=[test_data])\n",
        "\n",
        "# Memprediksi nilai target pada data pengujian\n",
        "y_pred = bst.predict(X_test, num_iteration=bst.best_iteration)\n",
        "\n",
        "# Menghitung RMSE\n",
        "rmse = sqrt(mean_squared_error(y_test, y_pred))\n",
        "print(f\"RMSE: {rmse}\")\n"
      ],
      "metadata": {
        "colab": {
          "base_uri": "https://localhost:8080/"
        },
        "id": "5Rmo5ae7Bhlg",
        "outputId": "5815909f-e1b8-4a18-96c3-b5f66c05248c"
      },
      "execution_count": null,
      "outputs": [
        {
          "output_type": "stream",
          "name": "stdout",
          "text": [
            "[LightGBM] [Info] Auto-choosing col-wise multi-threading, the overhead of testing was 0.026262 seconds.\n",
            "You can set `force_col_wise=true` to remove the overhead.\n",
            "[LightGBM] [Info] Total Bins 2000\n",
            "[LightGBM] [Info] Number of data points in the train set: 307692, number of used features: 9\n",
            "[LightGBM] [Info] Start training from score 0.370267\n",
            "[LightGBM] [Warning] No further splits with positive gain, best gain: -inf\n",
            "[LightGBM] [Warning] No further splits with positive gain, best gain: -inf\n",
            "[LightGBM] [Warning] No further splits with positive gain, best gain: -inf\n",
            "RMSE: 0.8744872638099089\n"
          ]
        }
      ]
    },
    {
      "cell_type": "code",
      "source": [
        "# simpan model kedalam file pickel\n",
        "joblib.dump(bst, 'LGBM.pkl')"
      ],
      "metadata": {
        "colab": {
          "base_uri": "https://localhost:8080/"
        },
        "id": "c46FlZffq6kl",
        "outputId": "5a1bb331-957b-4013-906b-4ec9e06a61c1"
      },
      "execution_count": null,
      "outputs": [
        {
          "output_type": "execute_result",
          "data": {
            "text/plain": [
              "['LGBM.pkl']"
            ]
          },
          "metadata": {},
          "execution_count": 150
        }
      ]
    },
    {
      "cell_type": "markdown",
      "source": [
        "# Submission"
      ],
      "metadata": {
        "id": "XMhQpTT40x7V"
      }
    },
    {
      "cell_type": "code",
      "source": [
        "test_path = Path(\"drive/My Drive/airnology/test.csv\")\n",
        "submission = pd.read_csv(test_path, parse_dates=['datetime_iso'], index_col='datetime_iso')\n",
        "submission.head()"
      ],
      "metadata": {
        "colab": {
          "base_uri": "https://localhost:8080/",
          "height": 342
        },
        "id": "E6xacJbs0CVq",
        "outputId": "f4ceda4c-e546-4092-f637-5fcdf7dfe234"
      },
      "execution_count": null,
      "outputs": [
        {
          "output_type": "execute_result",
          "data": {
            "text/plain": [
              "                             datetime  time-zone           temp visibility  \\\n",
              "datetime_iso                                                                 \n",
              "2018-01-01 00:00:00+00:00  1514764800      28800       26.59 °C        NaN   \n",
              "2018-01-01 01:00:00+00:00  1514768400      28800        26.51 C        NaN   \n",
              "2018-01-01 02:00:00+00:00  1514772000      28800       28.68  C        NaN   \n",
              "2018-01-01 03:00:00+00:00  1514775600      28800        28.84 C        NaN   \n",
              "2018-01-01 04:00:00+00:00  1514779200      28800  29.75 Celcius              \n",
              "\n",
              "                          d_point     feels min_temp  max_temp        prssr  \\\n",
              "datetime_iso                                                                  \n",
              "2018-01-01 00:00:00+00:00   23.66     26.59    26.02     27.16         1009   \n",
              "2018-01-01 01:00:00+00:00   24.92  26.51 °C    26.06     28.04         1009   \n",
              "2018-01-01 02:00:00+00:00   25.71     34.68  28.03 C    29.3 C  1009.0 hPa.   \n",
              "2018-01-01 03:00:00+00:00   25.25     34.51    28.52  29.08 °C         1008   \n",
              "2018-01-01 04:00:00+00:00   24.62     35.38  29.31 C     30.57         1007   \n",
              "\n",
              "                              sea_level    grnd_level hum  wind_spd wind_deg  \\\n",
              "datetime_iso                                                                   \n",
              "2018-01-01 00:00:00+00:00           NaN  undetermined  84  1.45 m/s      355   \n",
              "2018-01-01 01:00:00+00:00           NaN  undetermined  91  1.67 m/s      351   \n",
              "2018-01-01 02:00:00+00:00           NaN           NaN  84  1.72 m/s   345.0°   \n",
              "2018-01-01 03:00:00+00:00           NaN           NaN  81      1.49   339.0°   \n",
              "2018-01-01 04:00:00+00:00  undetermined  undetermined  74  1.39 m/s   339.0°   \n",
              "\n",
              "                               rain_3h      snow_1h      snow_3h clouds  \n",
              "datetime_iso                                                             \n",
              "2018-01-01 00:00:00+00:00            0          NaN      no_snow     97  \n",
              "2018-01-01 01:00:00+00:00          0mm      no-snow  0 milimeter     95  \n",
              "2018-01-01 02:00:00+00:00         0 mm  volume:zero            0     90  \n",
              "2018-01-01 03:00:00+00:00  0 milimeter            0          NaN     91  \n",
              "2018-01-01 04:00:00+00:00          NaN            0     volume:0     96  "
            ],
            "text/html": [
              "\n",
              "  <div id=\"df-bef3e96c-1a12-4ace-8b23-9500bcd37179\" class=\"colab-df-container\">\n",
              "    <div>\n",
              "<style scoped>\n",
              "    .dataframe tbody tr th:only-of-type {\n",
              "        vertical-align: middle;\n",
              "    }\n",
              "\n",
              "    .dataframe tbody tr th {\n",
              "        vertical-align: top;\n",
              "    }\n",
              "\n",
              "    .dataframe thead th {\n",
              "        text-align: right;\n",
              "    }\n",
              "</style>\n",
              "<table border=\"1\" class=\"dataframe\">\n",
              "  <thead>\n",
              "    <tr style=\"text-align: right;\">\n",
              "      <th></th>\n",
              "      <th>datetime</th>\n",
              "      <th>time-zone</th>\n",
              "      <th>temp</th>\n",
              "      <th>visibility</th>\n",
              "      <th>d_point</th>\n",
              "      <th>feels</th>\n",
              "      <th>min_temp</th>\n",
              "      <th>max_temp</th>\n",
              "      <th>prssr</th>\n",
              "      <th>sea_level</th>\n",
              "      <th>grnd_level</th>\n",
              "      <th>hum</th>\n",
              "      <th>wind_spd</th>\n",
              "      <th>wind_deg</th>\n",
              "      <th>rain_3h</th>\n",
              "      <th>snow_1h</th>\n",
              "      <th>snow_3h</th>\n",
              "      <th>clouds</th>\n",
              "    </tr>\n",
              "    <tr>\n",
              "      <th>datetime_iso</th>\n",
              "      <th></th>\n",
              "      <th></th>\n",
              "      <th></th>\n",
              "      <th></th>\n",
              "      <th></th>\n",
              "      <th></th>\n",
              "      <th></th>\n",
              "      <th></th>\n",
              "      <th></th>\n",
              "      <th></th>\n",
              "      <th></th>\n",
              "      <th></th>\n",
              "      <th></th>\n",
              "      <th></th>\n",
              "      <th></th>\n",
              "      <th></th>\n",
              "      <th></th>\n",
              "      <th></th>\n",
              "    </tr>\n",
              "  </thead>\n",
              "  <tbody>\n",
              "    <tr>\n",
              "      <th>2018-01-01 00:00:00+00:00</th>\n",
              "      <td>1514764800</td>\n",
              "      <td>28800</td>\n",
              "      <td>26.59 °C</td>\n",
              "      <td>NaN</td>\n",
              "      <td>23.66</td>\n",
              "      <td>26.59</td>\n",
              "      <td>26.02</td>\n",
              "      <td>27.16</td>\n",
              "      <td>1009</td>\n",
              "      <td>NaN</td>\n",
              "      <td>undetermined</td>\n",
              "      <td>84</td>\n",
              "      <td>1.45 m/s</td>\n",
              "      <td>355</td>\n",
              "      <td>0</td>\n",
              "      <td>NaN</td>\n",
              "      <td>no_snow</td>\n",
              "      <td>97</td>\n",
              "    </tr>\n",
              "    <tr>\n",
              "      <th>2018-01-01 01:00:00+00:00</th>\n",
              "      <td>1514768400</td>\n",
              "      <td>28800</td>\n",
              "      <td>26.51 C</td>\n",
              "      <td>NaN</td>\n",
              "      <td>24.92</td>\n",
              "      <td>26.51 °C</td>\n",
              "      <td>26.06</td>\n",
              "      <td>28.04</td>\n",
              "      <td>1009</td>\n",
              "      <td>NaN</td>\n",
              "      <td>undetermined</td>\n",
              "      <td>91</td>\n",
              "      <td>1.67 m/s</td>\n",
              "      <td>351</td>\n",
              "      <td>0mm</td>\n",
              "      <td>no-snow</td>\n",
              "      <td>0 milimeter</td>\n",
              "      <td>95</td>\n",
              "    </tr>\n",
              "    <tr>\n",
              "      <th>2018-01-01 02:00:00+00:00</th>\n",
              "      <td>1514772000</td>\n",
              "      <td>28800</td>\n",
              "      <td>28.68  C</td>\n",
              "      <td>NaN</td>\n",
              "      <td>25.71</td>\n",
              "      <td>34.68</td>\n",
              "      <td>28.03 C</td>\n",
              "      <td>29.3 C</td>\n",
              "      <td>1009.0 hPa.</td>\n",
              "      <td>NaN</td>\n",
              "      <td>NaN</td>\n",
              "      <td>84</td>\n",
              "      <td>1.72 m/s</td>\n",
              "      <td>345.0°</td>\n",
              "      <td>0 mm</td>\n",
              "      <td>volume:zero</td>\n",
              "      <td>0</td>\n",
              "      <td>90</td>\n",
              "    </tr>\n",
              "    <tr>\n",
              "      <th>2018-01-01 03:00:00+00:00</th>\n",
              "      <td>1514775600</td>\n",
              "      <td>28800</td>\n",
              "      <td>28.84 C</td>\n",
              "      <td>NaN</td>\n",
              "      <td>25.25</td>\n",
              "      <td>34.51</td>\n",
              "      <td>28.52</td>\n",
              "      <td>29.08 °C</td>\n",
              "      <td>1008</td>\n",
              "      <td>NaN</td>\n",
              "      <td>NaN</td>\n",
              "      <td>81</td>\n",
              "      <td>1.49</td>\n",
              "      <td>339.0°</td>\n",
              "      <td>0 milimeter</td>\n",
              "      <td>0</td>\n",
              "      <td>NaN</td>\n",
              "      <td>91</td>\n",
              "    </tr>\n",
              "    <tr>\n",
              "      <th>2018-01-01 04:00:00+00:00</th>\n",
              "      <td>1514779200</td>\n",
              "      <td>28800</td>\n",
              "      <td>29.75 Celcius</td>\n",
              "      <td></td>\n",
              "      <td>24.62</td>\n",
              "      <td>35.38</td>\n",
              "      <td>29.31 C</td>\n",
              "      <td>30.57</td>\n",
              "      <td>1007</td>\n",
              "      <td>undetermined</td>\n",
              "      <td>undetermined</td>\n",
              "      <td>74</td>\n",
              "      <td>1.39 m/s</td>\n",
              "      <td>339.0°</td>\n",
              "      <td>NaN</td>\n",
              "      <td>0</td>\n",
              "      <td>volume:0</td>\n",
              "      <td>96</td>\n",
              "    </tr>\n",
              "  </tbody>\n",
              "</table>\n",
              "</div>\n",
              "    <div class=\"colab-df-buttons\">\n",
              "\n",
              "  <div class=\"colab-df-container\">\n",
              "    <button class=\"colab-df-convert\" onclick=\"convertToInteractive('df-bef3e96c-1a12-4ace-8b23-9500bcd37179')\"\n",
              "            title=\"Convert this dataframe to an interactive table.\"\n",
              "            style=\"display:none;\">\n",
              "\n",
              "  <svg xmlns=\"http://www.w3.org/2000/svg\" height=\"24px\" viewBox=\"0 -960 960 960\">\n",
              "    <path d=\"M120-120v-720h720v720H120Zm60-500h600v-160H180v160Zm220 220h160v-160H400v160Zm0 220h160v-160H400v160ZM180-400h160v-160H180v160Zm440 0h160v-160H620v160ZM180-180h160v-160H180v160Zm440 0h160v-160H620v160Z\"/>\n",
              "  </svg>\n",
              "    </button>\n",
              "\n",
              "  <style>\n",
              "    .colab-df-container {\n",
              "      display:flex;\n",
              "      gap: 12px;\n",
              "    }\n",
              "\n",
              "    .colab-df-convert {\n",
              "      background-color: #E8F0FE;\n",
              "      border: none;\n",
              "      border-radius: 50%;\n",
              "      cursor: pointer;\n",
              "      display: none;\n",
              "      fill: #1967D2;\n",
              "      height: 32px;\n",
              "      padding: 0 0 0 0;\n",
              "      width: 32px;\n",
              "    }\n",
              "\n",
              "    .colab-df-convert:hover {\n",
              "      background-color: #E2EBFA;\n",
              "      box-shadow: 0px 1px 2px rgba(60, 64, 67, 0.3), 0px 1px 3px 1px rgba(60, 64, 67, 0.15);\n",
              "      fill: #174EA6;\n",
              "    }\n",
              "\n",
              "    .colab-df-buttons div {\n",
              "      margin-bottom: 4px;\n",
              "    }\n",
              "\n",
              "    [theme=dark] .colab-df-convert {\n",
              "      background-color: #3B4455;\n",
              "      fill: #D2E3FC;\n",
              "    }\n",
              "\n",
              "    [theme=dark] .colab-df-convert:hover {\n",
              "      background-color: #434B5C;\n",
              "      box-shadow: 0px 1px 3px 1px rgba(0, 0, 0, 0.15);\n",
              "      filter: drop-shadow(0px 1px 2px rgba(0, 0, 0, 0.3));\n",
              "      fill: #FFFFFF;\n",
              "    }\n",
              "  </style>\n",
              "\n",
              "    <script>\n",
              "      const buttonEl =\n",
              "        document.querySelector('#df-bef3e96c-1a12-4ace-8b23-9500bcd37179 button.colab-df-convert');\n",
              "      buttonEl.style.display =\n",
              "        google.colab.kernel.accessAllowed ? 'block' : 'none';\n",
              "\n",
              "      async function convertToInteractive(key) {\n",
              "        const element = document.querySelector('#df-bef3e96c-1a12-4ace-8b23-9500bcd37179');\n",
              "        const dataTable =\n",
              "          await google.colab.kernel.invokeFunction('convertToInteractive',\n",
              "                                                    [key], {});\n",
              "        if (!dataTable) return;\n",
              "\n",
              "        const docLinkHtml = 'Like what you see? Visit the ' +\n",
              "          '<a target=\"_blank\" href=https://colab.research.google.com/notebooks/data_table.ipynb>data table notebook</a>'\n",
              "          + ' to learn more about interactive tables.';\n",
              "        element.innerHTML = '';\n",
              "        dataTable['output_type'] = 'display_data';\n",
              "        await google.colab.output.renderOutput(dataTable, element);\n",
              "        const docLink = document.createElement('div');\n",
              "        docLink.innerHTML = docLinkHtml;\n",
              "        element.appendChild(docLink);\n",
              "      }\n",
              "    </script>\n",
              "  </div>\n",
              "\n",
              "\n",
              "<div id=\"df-1863bac7-e08b-4c9c-bd39-c9fa08ba0cc2\">\n",
              "  <button class=\"colab-df-quickchart\" onclick=\"quickchart('df-1863bac7-e08b-4c9c-bd39-c9fa08ba0cc2')\"\n",
              "            title=\"Suggest charts.\"\n",
              "            style=\"display:none;\">\n",
              "\n",
              "<svg xmlns=\"http://www.w3.org/2000/svg\" height=\"24px\"viewBox=\"0 0 24 24\"\n",
              "     width=\"24px\">\n",
              "    <g>\n",
              "        <path d=\"M19 3H5c-1.1 0-2 .9-2 2v14c0 1.1.9 2 2 2h14c1.1 0 2-.9 2-2V5c0-1.1-.9-2-2-2zM9 17H7v-7h2v7zm4 0h-2V7h2v10zm4 0h-2v-4h2v4z\"/>\n",
              "    </g>\n",
              "</svg>\n",
              "  </button>\n",
              "\n",
              "<style>\n",
              "  .colab-df-quickchart {\n",
              "      --bg-color: #E8F0FE;\n",
              "      --fill-color: #1967D2;\n",
              "      --hover-bg-color: #E2EBFA;\n",
              "      --hover-fill-color: #174EA6;\n",
              "      --disabled-fill-color: #AAA;\n",
              "      --disabled-bg-color: #DDD;\n",
              "  }\n",
              "\n",
              "  [theme=dark] .colab-df-quickchart {\n",
              "      --bg-color: #3B4455;\n",
              "      --fill-color: #D2E3FC;\n",
              "      --hover-bg-color: #434B5C;\n",
              "      --hover-fill-color: #FFFFFF;\n",
              "      --disabled-bg-color: #3B4455;\n",
              "      --disabled-fill-color: #666;\n",
              "  }\n",
              "\n",
              "  .colab-df-quickchart {\n",
              "    background-color: var(--bg-color);\n",
              "    border: none;\n",
              "    border-radius: 50%;\n",
              "    cursor: pointer;\n",
              "    display: none;\n",
              "    fill: var(--fill-color);\n",
              "    height: 32px;\n",
              "    padding: 0;\n",
              "    width: 32px;\n",
              "  }\n",
              "\n",
              "  .colab-df-quickchart:hover {\n",
              "    background-color: var(--hover-bg-color);\n",
              "    box-shadow: 0 1px 2px rgba(60, 64, 67, 0.3), 0 1px 3px 1px rgba(60, 64, 67, 0.15);\n",
              "    fill: var(--button-hover-fill-color);\n",
              "  }\n",
              "\n",
              "  .colab-df-quickchart-complete:disabled,\n",
              "  .colab-df-quickchart-complete:disabled:hover {\n",
              "    background-color: var(--disabled-bg-color);\n",
              "    fill: var(--disabled-fill-color);\n",
              "    box-shadow: none;\n",
              "  }\n",
              "\n",
              "  .colab-df-spinner {\n",
              "    border: 2px solid var(--fill-color);\n",
              "    border-color: transparent;\n",
              "    border-bottom-color: var(--fill-color);\n",
              "    animation:\n",
              "      spin 1s steps(1) infinite;\n",
              "  }\n",
              "\n",
              "  @keyframes spin {\n",
              "    0% {\n",
              "      border-color: transparent;\n",
              "      border-bottom-color: var(--fill-color);\n",
              "      border-left-color: var(--fill-color);\n",
              "    }\n",
              "    20% {\n",
              "      border-color: transparent;\n",
              "      border-left-color: var(--fill-color);\n",
              "      border-top-color: var(--fill-color);\n",
              "    }\n",
              "    30% {\n",
              "      border-color: transparent;\n",
              "      border-left-color: var(--fill-color);\n",
              "      border-top-color: var(--fill-color);\n",
              "      border-right-color: var(--fill-color);\n",
              "    }\n",
              "    40% {\n",
              "      border-color: transparent;\n",
              "      border-right-color: var(--fill-color);\n",
              "      border-top-color: var(--fill-color);\n",
              "    }\n",
              "    60% {\n",
              "      border-color: transparent;\n",
              "      border-right-color: var(--fill-color);\n",
              "    }\n",
              "    80% {\n",
              "      border-color: transparent;\n",
              "      border-right-color: var(--fill-color);\n",
              "      border-bottom-color: var(--fill-color);\n",
              "    }\n",
              "    90% {\n",
              "      border-color: transparent;\n",
              "      border-bottom-color: var(--fill-color);\n",
              "    }\n",
              "  }\n",
              "</style>\n",
              "\n",
              "  <script>\n",
              "    async function quickchart(key) {\n",
              "      const quickchartButtonEl =\n",
              "        document.querySelector('#' + key + ' button');\n",
              "      quickchartButtonEl.disabled = true;  // To prevent multiple clicks.\n",
              "      quickchartButtonEl.classList.add('colab-df-spinner');\n",
              "      try {\n",
              "        const charts = await google.colab.kernel.invokeFunction(\n",
              "            'suggestCharts', [key], {});\n",
              "      } catch (error) {\n",
              "        console.error('Error during call to suggestCharts:', error);\n",
              "      }\n",
              "      quickchartButtonEl.classList.remove('colab-df-spinner');\n",
              "      quickchartButtonEl.classList.add('colab-df-quickchart-complete');\n",
              "    }\n",
              "    (() => {\n",
              "      let quickchartButtonEl =\n",
              "        document.querySelector('#df-1863bac7-e08b-4c9c-bd39-c9fa08ba0cc2 button');\n",
              "      quickchartButtonEl.style.display =\n",
              "        google.colab.kernel.accessAllowed ? 'block' : 'none';\n",
              "    })();\n",
              "  </script>\n",
              "</div>\n",
              "    </div>\n",
              "  </div>\n"
            ]
          },
          "metadata": {},
          "execution_count": 135
        }
      ]
    },
    {
      "cell_type": "code",
      "source": [
        "submission.drop(['visibility', 'prssr', 'sea_level','grnd_level','rain_3h', 'snow_1h', 'snow_3h'], axis=1, inplace=True)\n",
        "submission"
      ],
      "metadata": {
        "colab": {
          "base_uri": "https://localhost:8080/",
          "height": 455
        },
        "id": "BohHIhFS0-r1",
        "outputId": "f7c4f184-9cb5-4be6-8e61-c470d35f9194"
      },
      "execution_count": null,
      "outputs": [
        {
          "output_type": "execute_result",
          "data": {
            "text/plain": [
              "                             datetime  time-zone           temp   d_point  \\\n",
              "datetime_iso                                                                \n",
              "2018-01-01 00:00:00+00:00  1514764800      28800       26.59 °C     23.66   \n",
              "2018-01-01 01:00:00+00:00  1514768400      28800        26.51 C     24.92   \n",
              "2018-01-01 02:00:00+00:00  1514772000      28800       28.68  C     25.71   \n",
              "2018-01-01 03:00:00+00:00  1514775600      28800        28.84 C     25.25   \n",
              "2018-01-01 04:00:00+00:00  1514779200      28800  29.75 Celcius     24.62   \n",
              "...                               ...        ...            ...       ...   \n",
              "2023-08-19 19:00:00+00:00  1692471600      28800        24.37 C     23.34   \n",
              "2023-08-19 20:00:00+00:00  1692475200      28800        23.87 C     23.02   \n",
              "2023-08-19 21:00:00+00:00  1692478800      28800  23.87 Celcius     23.02   \n",
              "2023-08-19 22:00:00+00:00  1692482400      28800        23.87°C     23.02   \n",
              "2023-08-19 23:00:00+00:00  1692486000      28800        26.57 C  22.42  C   \n",
              "\n",
              "                              feels min_temp  max_temp     hum  wind_spd  \\\n",
              "datetime_iso                                                               \n",
              "2018-01-01 00:00:00+00:00     26.59    26.02     27.16      84  1.45 m/s   \n",
              "2018-01-01 01:00:00+00:00  26.51 °C    26.06     28.04      91  1.67 m/s   \n",
              "2018-01-01 02:00:00+00:00     34.68  28.03 C    29.3 C      84  1.72 m/s   \n",
              "2018-01-01 03:00:00+00:00     34.51    28.52  29.08 °C      81      1.49   \n",
              "2018-01-01 04:00:00+00:00     35.38  29.31 C     30.57      74  1.39 m/s   \n",
              "...                             ...      ...       ...     ...       ...   \n",
              "2023-08-19 19:00:00+00:00     25.32   22.7°C   28.2 °C      94      1.57   \n",
              "2023-08-19 20:00:00+00:00   24.79 C    21.91  28.01 °C      95      1.53   \n",
              "2023-08-19 21:00:00+00:00     24.79    21.91     28.01  95.00%  1.53 m/s   \n",
              "2023-08-19 22:00:00+00:00     24.79    21.91  28.01 °C  95.00%      1.53   \n",
              "2023-08-19 23:00:00+00:00   26.57 C    25.55     27.85      78  2.13 m/s   \n",
              "\n",
              "                          wind_deg  clouds  \n",
              "datetime_iso                                \n",
              "2018-01-01 00:00:00+00:00      355      97  \n",
              "2018-01-01 01:00:00+00:00      351      95  \n",
              "2018-01-01 02:00:00+00:00   345.0°      90  \n",
              "2018-01-01 03:00:00+00:00   339.0°      91  \n",
              "2018-01-01 04:00:00+00:00   339.0°      96  \n",
              "...                            ...     ...  \n",
              "2023-08-19 19:00:00+00:00   239.0°      84  \n",
              "2023-08-19 20:00:00+00:00   235.0°      70  \n",
              "2023-08-19 21:00:00+00:00      235      70  \n",
              "2023-08-19 22:00:00+00:00      235  70.00%  \n",
              "2023-08-19 23:00:00+00:00   211.0°      87  \n",
              "\n",
              "[49368 rows x 11 columns]"
            ],
            "text/html": [
              "\n",
              "  <div id=\"df-1e6125ea-bfd4-4ad6-b073-55f979422d60\" class=\"colab-df-container\">\n",
              "    <div>\n",
              "<style scoped>\n",
              "    .dataframe tbody tr th:only-of-type {\n",
              "        vertical-align: middle;\n",
              "    }\n",
              "\n",
              "    .dataframe tbody tr th {\n",
              "        vertical-align: top;\n",
              "    }\n",
              "\n",
              "    .dataframe thead th {\n",
              "        text-align: right;\n",
              "    }\n",
              "</style>\n",
              "<table border=\"1\" class=\"dataframe\">\n",
              "  <thead>\n",
              "    <tr style=\"text-align: right;\">\n",
              "      <th></th>\n",
              "      <th>datetime</th>\n",
              "      <th>time-zone</th>\n",
              "      <th>temp</th>\n",
              "      <th>d_point</th>\n",
              "      <th>feels</th>\n",
              "      <th>min_temp</th>\n",
              "      <th>max_temp</th>\n",
              "      <th>hum</th>\n",
              "      <th>wind_spd</th>\n",
              "      <th>wind_deg</th>\n",
              "      <th>clouds</th>\n",
              "    </tr>\n",
              "    <tr>\n",
              "      <th>datetime_iso</th>\n",
              "      <th></th>\n",
              "      <th></th>\n",
              "      <th></th>\n",
              "      <th></th>\n",
              "      <th></th>\n",
              "      <th></th>\n",
              "      <th></th>\n",
              "      <th></th>\n",
              "      <th></th>\n",
              "      <th></th>\n",
              "      <th></th>\n",
              "    </tr>\n",
              "  </thead>\n",
              "  <tbody>\n",
              "    <tr>\n",
              "      <th>2018-01-01 00:00:00+00:00</th>\n",
              "      <td>1514764800</td>\n",
              "      <td>28800</td>\n",
              "      <td>26.59 °C</td>\n",
              "      <td>23.66</td>\n",
              "      <td>26.59</td>\n",
              "      <td>26.02</td>\n",
              "      <td>27.16</td>\n",
              "      <td>84</td>\n",
              "      <td>1.45 m/s</td>\n",
              "      <td>355</td>\n",
              "      <td>97</td>\n",
              "    </tr>\n",
              "    <tr>\n",
              "      <th>2018-01-01 01:00:00+00:00</th>\n",
              "      <td>1514768400</td>\n",
              "      <td>28800</td>\n",
              "      <td>26.51 C</td>\n",
              "      <td>24.92</td>\n",
              "      <td>26.51 °C</td>\n",
              "      <td>26.06</td>\n",
              "      <td>28.04</td>\n",
              "      <td>91</td>\n",
              "      <td>1.67 m/s</td>\n",
              "      <td>351</td>\n",
              "      <td>95</td>\n",
              "    </tr>\n",
              "    <tr>\n",
              "      <th>2018-01-01 02:00:00+00:00</th>\n",
              "      <td>1514772000</td>\n",
              "      <td>28800</td>\n",
              "      <td>28.68  C</td>\n",
              "      <td>25.71</td>\n",
              "      <td>34.68</td>\n",
              "      <td>28.03 C</td>\n",
              "      <td>29.3 C</td>\n",
              "      <td>84</td>\n",
              "      <td>1.72 m/s</td>\n",
              "      <td>345.0°</td>\n",
              "      <td>90</td>\n",
              "    </tr>\n",
              "    <tr>\n",
              "      <th>2018-01-01 03:00:00+00:00</th>\n",
              "      <td>1514775600</td>\n",
              "      <td>28800</td>\n",
              "      <td>28.84 C</td>\n",
              "      <td>25.25</td>\n",
              "      <td>34.51</td>\n",
              "      <td>28.52</td>\n",
              "      <td>29.08 °C</td>\n",
              "      <td>81</td>\n",
              "      <td>1.49</td>\n",
              "      <td>339.0°</td>\n",
              "      <td>91</td>\n",
              "    </tr>\n",
              "    <tr>\n",
              "      <th>2018-01-01 04:00:00+00:00</th>\n",
              "      <td>1514779200</td>\n",
              "      <td>28800</td>\n",
              "      <td>29.75 Celcius</td>\n",
              "      <td>24.62</td>\n",
              "      <td>35.38</td>\n",
              "      <td>29.31 C</td>\n",
              "      <td>30.57</td>\n",
              "      <td>74</td>\n",
              "      <td>1.39 m/s</td>\n",
              "      <td>339.0°</td>\n",
              "      <td>96</td>\n",
              "    </tr>\n",
              "    <tr>\n",
              "      <th>...</th>\n",
              "      <td>...</td>\n",
              "      <td>...</td>\n",
              "      <td>...</td>\n",
              "      <td>...</td>\n",
              "      <td>...</td>\n",
              "      <td>...</td>\n",
              "      <td>...</td>\n",
              "      <td>...</td>\n",
              "      <td>...</td>\n",
              "      <td>...</td>\n",
              "      <td>...</td>\n",
              "    </tr>\n",
              "    <tr>\n",
              "      <th>2023-08-19 19:00:00+00:00</th>\n",
              "      <td>1692471600</td>\n",
              "      <td>28800</td>\n",
              "      <td>24.37 C</td>\n",
              "      <td>23.34</td>\n",
              "      <td>25.32</td>\n",
              "      <td>22.7°C</td>\n",
              "      <td>28.2 °C</td>\n",
              "      <td>94</td>\n",
              "      <td>1.57</td>\n",
              "      <td>239.0°</td>\n",
              "      <td>84</td>\n",
              "    </tr>\n",
              "    <tr>\n",
              "      <th>2023-08-19 20:00:00+00:00</th>\n",
              "      <td>1692475200</td>\n",
              "      <td>28800</td>\n",
              "      <td>23.87 C</td>\n",
              "      <td>23.02</td>\n",
              "      <td>24.79 C</td>\n",
              "      <td>21.91</td>\n",
              "      <td>28.01 °C</td>\n",
              "      <td>95</td>\n",
              "      <td>1.53</td>\n",
              "      <td>235.0°</td>\n",
              "      <td>70</td>\n",
              "    </tr>\n",
              "    <tr>\n",
              "      <th>2023-08-19 21:00:00+00:00</th>\n",
              "      <td>1692478800</td>\n",
              "      <td>28800</td>\n",
              "      <td>23.87 Celcius</td>\n",
              "      <td>23.02</td>\n",
              "      <td>24.79</td>\n",
              "      <td>21.91</td>\n",
              "      <td>28.01</td>\n",
              "      <td>95.00%</td>\n",
              "      <td>1.53 m/s</td>\n",
              "      <td>235</td>\n",
              "      <td>70</td>\n",
              "    </tr>\n",
              "    <tr>\n",
              "      <th>2023-08-19 22:00:00+00:00</th>\n",
              "      <td>1692482400</td>\n",
              "      <td>28800</td>\n",
              "      <td>23.87°C</td>\n",
              "      <td>23.02</td>\n",
              "      <td>24.79</td>\n",
              "      <td>21.91</td>\n",
              "      <td>28.01 °C</td>\n",
              "      <td>95.00%</td>\n",
              "      <td>1.53</td>\n",
              "      <td>235</td>\n",
              "      <td>70.00%</td>\n",
              "    </tr>\n",
              "    <tr>\n",
              "      <th>2023-08-19 23:00:00+00:00</th>\n",
              "      <td>1692486000</td>\n",
              "      <td>28800</td>\n",
              "      <td>26.57 C</td>\n",
              "      <td>22.42  C</td>\n",
              "      <td>26.57 C</td>\n",
              "      <td>25.55</td>\n",
              "      <td>27.85</td>\n",
              "      <td>78</td>\n",
              "      <td>2.13 m/s</td>\n",
              "      <td>211.0°</td>\n",
              "      <td>87</td>\n",
              "    </tr>\n",
              "  </tbody>\n",
              "</table>\n",
              "<p>49368 rows × 11 columns</p>\n",
              "</div>\n",
              "    <div class=\"colab-df-buttons\">\n",
              "\n",
              "  <div class=\"colab-df-container\">\n",
              "    <button class=\"colab-df-convert\" onclick=\"convertToInteractive('df-1e6125ea-bfd4-4ad6-b073-55f979422d60')\"\n",
              "            title=\"Convert this dataframe to an interactive table.\"\n",
              "            style=\"display:none;\">\n",
              "\n",
              "  <svg xmlns=\"http://www.w3.org/2000/svg\" height=\"24px\" viewBox=\"0 -960 960 960\">\n",
              "    <path d=\"M120-120v-720h720v720H120Zm60-500h600v-160H180v160Zm220 220h160v-160H400v160Zm0 220h160v-160H400v160ZM180-400h160v-160H180v160Zm440 0h160v-160H620v160ZM180-180h160v-160H180v160Zm440 0h160v-160H620v160Z\"/>\n",
              "  </svg>\n",
              "    </button>\n",
              "\n",
              "  <style>\n",
              "    .colab-df-container {\n",
              "      display:flex;\n",
              "      gap: 12px;\n",
              "    }\n",
              "\n",
              "    .colab-df-convert {\n",
              "      background-color: #E8F0FE;\n",
              "      border: none;\n",
              "      border-radius: 50%;\n",
              "      cursor: pointer;\n",
              "      display: none;\n",
              "      fill: #1967D2;\n",
              "      height: 32px;\n",
              "      padding: 0 0 0 0;\n",
              "      width: 32px;\n",
              "    }\n",
              "\n",
              "    .colab-df-convert:hover {\n",
              "      background-color: #E2EBFA;\n",
              "      box-shadow: 0px 1px 2px rgba(60, 64, 67, 0.3), 0px 1px 3px 1px rgba(60, 64, 67, 0.15);\n",
              "      fill: #174EA6;\n",
              "    }\n",
              "\n",
              "    .colab-df-buttons div {\n",
              "      margin-bottom: 4px;\n",
              "    }\n",
              "\n",
              "    [theme=dark] .colab-df-convert {\n",
              "      background-color: #3B4455;\n",
              "      fill: #D2E3FC;\n",
              "    }\n",
              "\n",
              "    [theme=dark] .colab-df-convert:hover {\n",
              "      background-color: #434B5C;\n",
              "      box-shadow: 0px 1px 3px 1px rgba(0, 0, 0, 0.15);\n",
              "      filter: drop-shadow(0px 1px 2px rgba(0, 0, 0, 0.3));\n",
              "      fill: #FFFFFF;\n",
              "    }\n",
              "  </style>\n",
              "\n",
              "    <script>\n",
              "      const buttonEl =\n",
              "        document.querySelector('#df-1e6125ea-bfd4-4ad6-b073-55f979422d60 button.colab-df-convert');\n",
              "      buttonEl.style.display =\n",
              "        google.colab.kernel.accessAllowed ? 'block' : 'none';\n",
              "\n",
              "      async function convertToInteractive(key) {\n",
              "        const element = document.querySelector('#df-1e6125ea-bfd4-4ad6-b073-55f979422d60');\n",
              "        const dataTable =\n",
              "          await google.colab.kernel.invokeFunction('convertToInteractive',\n",
              "                                                    [key], {});\n",
              "        if (!dataTable) return;\n",
              "\n",
              "        const docLinkHtml = 'Like what you see? Visit the ' +\n",
              "          '<a target=\"_blank\" href=https://colab.research.google.com/notebooks/data_table.ipynb>data table notebook</a>'\n",
              "          + ' to learn more about interactive tables.';\n",
              "        element.innerHTML = '';\n",
              "        dataTable['output_type'] = 'display_data';\n",
              "        await google.colab.output.renderOutput(dataTable, element);\n",
              "        const docLink = document.createElement('div');\n",
              "        docLink.innerHTML = docLinkHtml;\n",
              "        element.appendChild(docLink);\n",
              "      }\n",
              "    </script>\n",
              "  </div>\n",
              "\n",
              "\n",
              "<div id=\"df-1ee36bb2-c09a-4066-97c7-a653ff94d9a4\">\n",
              "  <button class=\"colab-df-quickchart\" onclick=\"quickchart('df-1ee36bb2-c09a-4066-97c7-a653ff94d9a4')\"\n",
              "            title=\"Suggest charts.\"\n",
              "            style=\"display:none;\">\n",
              "\n",
              "<svg xmlns=\"http://www.w3.org/2000/svg\" height=\"24px\"viewBox=\"0 0 24 24\"\n",
              "     width=\"24px\">\n",
              "    <g>\n",
              "        <path d=\"M19 3H5c-1.1 0-2 .9-2 2v14c0 1.1.9 2 2 2h14c1.1 0 2-.9 2-2V5c0-1.1-.9-2-2-2zM9 17H7v-7h2v7zm4 0h-2V7h2v10zm4 0h-2v-4h2v4z\"/>\n",
              "    </g>\n",
              "</svg>\n",
              "  </button>\n",
              "\n",
              "<style>\n",
              "  .colab-df-quickchart {\n",
              "      --bg-color: #E8F0FE;\n",
              "      --fill-color: #1967D2;\n",
              "      --hover-bg-color: #E2EBFA;\n",
              "      --hover-fill-color: #174EA6;\n",
              "      --disabled-fill-color: #AAA;\n",
              "      --disabled-bg-color: #DDD;\n",
              "  }\n",
              "\n",
              "  [theme=dark] .colab-df-quickchart {\n",
              "      --bg-color: #3B4455;\n",
              "      --fill-color: #D2E3FC;\n",
              "      --hover-bg-color: #434B5C;\n",
              "      --hover-fill-color: #FFFFFF;\n",
              "      --disabled-bg-color: #3B4455;\n",
              "      --disabled-fill-color: #666;\n",
              "  }\n",
              "\n",
              "  .colab-df-quickchart {\n",
              "    background-color: var(--bg-color);\n",
              "    border: none;\n",
              "    border-radius: 50%;\n",
              "    cursor: pointer;\n",
              "    display: none;\n",
              "    fill: var(--fill-color);\n",
              "    height: 32px;\n",
              "    padding: 0;\n",
              "    width: 32px;\n",
              "  }\n",
              "\n",
              "  .colab-df-quickchart:hover {\n",
              "    background-color: var(--hover-bg-color);\n",
              "    box-shadow: 0 1px 2px rgba(60, 64, 67, 0.3), 0 1px 3px 1px rgba(60, 64, 67, 0.15);\n",
              "    fill: var(--button-hover-fill-color);\n",
              "  }\n",
              "\n",
              "  .colab-df-quickchart-complete:disabled,\n",
              "  .colab-df-quickchart-complete:disabled:hover {\n",
              "    background-color: var(--disabled-bg-color);\n",
              "    fill: var(--disabled-fill-color);\n",
              "    box-shadow: none;\n",
              "  }\n",
              "\n",
              "  .colab-df-spinner {\n",
              "    border: 2px solid var(--fill-color);\n",
              "    border-color: transparent;\n",
              "    border-bottom-color: var(--fill-color);\n",
              "    animation:\n",
              "      spin 1s steps(1) infinite;\n",
              "  }\n",
              "\n",
              "  @keyframes spin {\n",
              "    0% {\n",
              "      border-color: transparent;\n",
              "      border-bottom-color: var(--fill-color);\n",
              "      border-left-color: var(--fill-color);\n",
              "    }\n",
              "    20% {\n",
              "      border-color: transparent;\n",
              "      border-left-color: var(--fill-color);\n",
              "      border-top-color: var(--fill-color);\n",
              "    }\n",
              "    30% {\n",
              "      border-color: transparent;\n",
              "      border-left-color: var(--fill-color);\n",
              "      border-top-color: var(--fill-color);\n",
              "      border-right-color: var(--fill-color);\n",
              "    }\n",
              "    40% {\n",
              "      border-color: transparent;\n",
              "      border-right-color: var(--fill-color);\n",
              "      border-top-color: var(--fill-color);\n",
              "    }\n",
              "    60% {\n",
              "      border-color: transparent;\n",
              "      border-right-color: var(--fill-color);\n",
              "    }\n",
              "    80% {\n",
              "      border-color: transparent;\n",
              "      border-right-color: var(--fill-color);\n",
              "      border-bottom-color: var(--fill-color);\n",
              "    }\n",
              "    90% {\n",
              "      border-color: transparent;\n",
              "      border-bottom-color: var(--fill-color);\n",
              "    }\n",
              "  }\n",
              "</style>\n",
              "\n",
              "  <script>\n",
              "    async function quickchart(key) {\n",
              "      const quickchartButtonEl =\n",
              "        document.querySelector('#' + key + ' button');\n",
              "      quickchartButtonEl.disabled = true;  // To prevent multiple clicks.\n",
              "      quickchartButtonEl.classList.add('colab-df-spinner');\n",
              "      try {\n",
              "        const charts = await google.colab.kernel.invokeFunction(\n",
              "            'suggestCharts', [key], {});\n",
              "      } catch (error) {\n",
              "        console.error('Error during call to suggestCharts:', error);\n",
              "      }\n",
              "      quickchartButtonEl.classList.remove('colab-df-spinner');\n",
              "      quickchartButtonEl.classList.add('colab-df-quickchart-complete');\n",
              "    }\n",
              "    (() => {\n",
              "      let quickchartButtonEl =\n",
              "        document.querySelector('#df-1ee36bb2-c09a-4066-97c7-a653ff94d9a4 button');\n",
              "      quickchartButtonEl.style.display =\n",
              "        google.colab.kernel.accessAllowed ? 'block' : 'none';\n",
              "    })();\n",
              "  </script>\n",
              "</div>\n",
              "    </div>\n",
              "  </div>\n"
            ]
          },
          "metadata": {},
          "execution_count": 136
        }
      ]
    },
    {
      "cell_type": "markdown",
      "source": [
        "## Cleaning"
      ],
      "metadata": {
        "id": "ItS-muzl1jOB"
      }
    },
    {
      "cell_type": "code",
      "source": [
        "submission.info()"
      ],
      "metadata": {
        "colab": {
          "base_uri": "https://localhost:8080/"
        },
        "id": "7KmkiBZQ3CIh",
        "outputId": "448cdae3-9cb5-493b-8a6e-a7f97d329db4"
      },
      "execution_count": null,
      "outputs": [
        {
          "output_type": "stream",
          "name": "stdout",
          "text": [
            "<class 'pandas.core.frame.DataFrame'>\n",
            "DatetimeIndex: 49368 entries, 2018-01-01 00:00:00+00:00 to 2023-08-19 23:00:00+00:00\n",
            "Data columns (total 11 columns):\n",
            " #   Column     Non-Null Count  Dtype \n",
            "---  ------     --------------  ----- \n",
            " 0   datetime   49368 non-null  int64 \n",
            " 1   time-zone  49368 non-null  int64 \n",
            " 2   temp       49368 non-null  object\n",
            " 3   d_point    49367 non-null  object\n",
            " 4   feels      49368 non-null  object\n",
            " 5   min_temp   49368 non-null  object\n",
            " 6   max_temp   49368 non-null  object\n",
            " 7   hum        49368 non-null  object\n",
            " 8   wind_spd   49368 non-null  object\n",
            " 9   wind_deg   49368 non-null  object\n",
            " 10  clouds     49368 non-null  object\n",
            "dtypes: int64(2), object(9)\n",
            "memory usage: 4.5+ MB\n"
          ]
        }
      ]
    },
    {
      "cell_type": "code",
      "source": [
        "# Menggunakan ekspresi reguler untuk membersihkan kolom 'temp' dan mengonversi ke float\n",
        "submission['temp'] = submission['temp'].apply(lambda x: re.findall(r'\\d+\\.\\d+|\\d+', x))\n",
        "submission['temp'] = submission['temp'].apply(lambda x: float(x[0]) if x else 0.0)\n",
        "\n",
        "# Menggunakan ekspresi reguler untuk membersihkan kolom 'd_point' dan mengonversi ke float\n",
        "submission['d_point'] =submission['d_point'].apply(lambda x: re.findall(r'\\d+\\.\\d+|\\d+', str(x)))\n",
        "submission['d_point'] = submission['d_point'].apply(lambda x: float(x[0]) if x else 0.0)\n",
        "\n",
        "# Menggunakan ekspresi reguler untuk membersihkan kolom 'feels' dan mengonversi ke float\n",
        "submission['feels'] = submission['feels'].apply(lambda x: re.findall(r'\\d+\\.\\d+|\\d+', x))\n",
        "submission['feels'] = submission['feels'].apply(lambda x: float(x[0]) if x else 0.0)\n",
        "\n",
        "# Menggunakan ekspresi reguler untuk membersihkan kolom 'min_temp' dan mengonversi ke float\n",
        "submission['min_temp'] = submission['min_temp'].apply(lambda x: re.findall(r'\\d+\\.\\d+|\\d+', x))\n",
        "submission['min_temp'] = submission['min_temp'].apply(lambda x: float(x[0]) if x else 0.0)\n",
        "\n",
        "# Menggunakan ekspresi reguler untuk membersihkan kolom 'max_temp' dan mengonversi ke float\n",
        "submission['max_temp'] = submission['max_temp'].apply(lambda x: re.findall(r'\\d+\\.\\d+|\\d+', x))\n",
        "submission['max_temp'] = submission['max_temp'].apply(lambda x: float(x[0]) if x else 0.0)\n",
        "\n",
        "# Menggunakan ekspresi reguler untuk membersihkan kolom 'hum' dan mengonversi ke float\n",
        "submission['hum'] = submission['hum'].apply(lambda x: re.findall(r'\\d+\\.\\d+|\\d+', x))\n",
        "submission['hum'] = submission['hum'].apply(lambda x: float(x[0]) if x else 0.0)\n",
        "\n",
        "# Menggunakan ekspresi reguler untuk mengambil angka dari kolom 'wind_spd'\n",
        "submission['wind_spd'] = submission['wind_spd'].apply(lambda x: re.search(r'[\\d.]+', x).group() if re.search(r'[\\d.]+', x) else '0')\n",
        "# Mengonversi kolom 'wind_spd' menjadi tipe data float\n",
        "submission['wind_spd'] = submission['wind_spd'].astype(float)\n",
        "\n",
        "# Menggunakan ekspresi reguler untuk membersihkan kolom 'wind_deg' dan mengonversi ke float\n",
        "submission['wind_deg'] = submission['wind_deg'].apply(lambda x: re.findall(r'\\d+\\.\\d+|\\d+', x))\n",
        "submission['wind_deg'] = submission['wind_deg'].apply(lambda x: float(x[0]) if x else 0.0)\n",
        "\n",
        "# Menggunakan ekspresi reguler untuk membersihkan kolom 'clouds' dan mengonversi ke float\n",
        "submission['clouds'] = submission['clouds'].apply(lambda x: re.findall(r'\\d+\\.\\d+|\\d+', x))\n",
        "submission['clouds'] = submission['clouds'].apply(lambda x: float(x[0]) if x else 0.0)"
      ],
      "metadata": {
        "id": "Z_EN40sV1h29"
      },
      "execution_count": null,
      "outputs": []
    },
    {
      "cell_type": "code",
      "source": [
        "submission"
      ],
      "metadata": {
        "colab": {
          "base_uri": "https://localhost:8080/",
          "height": 455
        },
        "id": "bN5aScZJ2m8n",
        "outputId": "9d2d9374-ec7e-42f6-f47b-8be886c859c4"
      },
      "execution_count": null,
      "outputs": [
        {
          "output_type": "execute_result",
          "data": {
            "text/plain": [
              "                             datetime  time-zone   temp  d_point  feels  \\\n",
              "datetime_iso                                                              \n",
              "2018-01-01 00:00:00+00:00  1514764800      28800  26.59    23.66  26.59   \n",
              "2018-01-01 01:00:00+00:00  1514768400      28800  26.51    24.92  26.51   \n",
              "2018-01-01 02:00:00+00:00  1514772000      28800  28.68    25.71  34.68   \n",
              "2018-01-01 03:00:00+00:00  1514775600      28800  28.84    25.25  34.51   \n",
              "2018-01-01 04:00:00+00:00  1514779200      28800  29.75    24.62  35.38   \n",
              "...                               ...        ...    ...      ...    ...   \n",
              "2023-08-19 19:00:00+00:00  1692471600      28800  24.37    23.34  25.32   \n",
              "2023-08-19 20:00:00+00:00  1692475200      28800  23.87    23.02  24.79   \n",
              "2023-08-19 21:00:00+00:00  1692478800      28800  23.87    23.02  24.79   \n",
              "2023-08-19 22:00:00+00:00  1692482400      28800  23.87    23.02  24.79   \n",
              "2023-08-19 23:00:00+00:00  1692486000      28800  26.57    22.42  26.57   \n",
              "\n",
              "                           min_temp  max_temp   hum  wind_spd  wind_deg  \\\n",
              "datetime_iso                                                              \n",
              "2018-01-01 00:00:00+00:00     26.02     27.16  84.0      1.45     355.0   \n",
              "2018-01-01 01:00:00+00:00     26.06     28.04  91.0      1.67     351.0   \n",
              "2018-01-01 02:00:00+00:00     28.03     29.30  84.0      1.72     345.0   \n",
              "2018-01-01 03:00:00+00:00     28.52     29.08  81.0      1.49     339.0   \n",
              "2018-01-01 04:00:00+00:00     29.31     30.57  74.0      1.39     339.0   \n",
              "...                             ...       ...   ...       ...       ...   \n",
              "2023-08-19 19:00:00+00:00     22.70     28.20  94.0      1.57     239.0   \n",
              "2023-08-19 20:00:00+00:00     21.91     28.01  95.0      1.53     235.0   \n",
              "2023-08-19 21:00:00+00:00     21.91     28.01  95.0      1.53     235.0   \n",
              "2023-08-19 22:00:00+00:00     21.91     28.01  95.0      1.53     235.0   \n",
              "2023-08-19 23:00:00+00:00     25.55     27.85  78.0      2.13     211.0   \n",
              "\n",
              "                           clouds  \n",
              "datetime_iso                       \n",
              "2018-01-01 00:00:00+00:00    97.0  \n",
              "2018-01-01 01:00:00+00:00    95.0  \n",
              "2018-01-01 02:00:00+00:00    90.0  \n",
              "2018-01-01 03:00:00+00:00    91.0  \n",
              "2018-01-01 04:00:00+00:00    96.0  \n",
              "...                           ...  \n",
              "2023-08-19 19:00:00+00:00    84.0  \n",
              "2023-08-19 20:00:00+00:00    70.0  \n",
              "2023-08-19 21:00:00+00:00    70.0  \n",
              "2023-08-19 22:00:00+00:00    70.0  \n",
              "2023-08-19 23:00:00+00:00    87.0  \n",
              "\n",
              "[49368 rows x 11 columns]"
            ],
            "text/html": [
              "\n",
              "  <div id=\"df-7ca14855-bcca-4b60-ab9e-06d12981d200\" class=\"colab-df-container\">\n",
              "    <div>\n",
              "<style scoped>\n",
              "    .dataframe tbody tr th:only-of-type {\n",
              "        vertical-align: middle;\n",
              "    }\n",
              "\n",
              "    .dataframe tbody tr th {\n",
              "        vertical-align: top;\n",
              "    }\n",
              "\n",
              "    .dataframe thead th {\n",
              "        text-align: right;\n",
              "    }\n",
              "</style>\n",
              "<table border=\"1\" class=\"dataframe\">\n",
              "  <thead>\n",
              "    <tr style=\"text-align: right;\">\n",
              "      <th></th>\n",
              "      <th>datetime</th>\n",
              "      <th>time-zone</th>\n",
              "      <th>temp</th>\n",
              "      <th>d_point</th>\n",
              "      <th>feels</th>\n",
              "      <th>min_temp</th>\n",
              "      <th>max_temp</th>\n",
              "      <th>hum</th>\n",
              "      <th>wind_spd</th>\n",
              "      <th>wind_deg</th>\n",
              "      <th>clouds</th>\n",
              "    </tr>\n",
              "    <tr>\n",
              "      <th>datetime_iso</th>\n",
              "      <th></th>\n",
              "      <th></th>\n",
              "      <th></th>\n",
              "      <th></th>\n",
              "      <th></th>\n",
              "      <th></th>\n",
              "      <th></th>\n",
              "      <th></th>\n",
              "      <th></th>\n",
              "      <th></th>\n",
              "      <th></th>\n",
              "    </tr>\n",
              "  </thead>\n",
              "  <tbody>\n",
              "    <tr>\n",
              "      <th>2018-01-01 00:00:00+00:00</th>\n",
              "      <td>1514764800</td>\n",
              "      <td>28800</td>\n",
              "      <td>26.59</td>\n",
              "      <td>23.66</td>\n",
              "      <td>26.59</td>\n",
              "      <td>26.02</td>\n",
              "      <td>27.16</td>\n",
              "      <td>84.0</td>\n",
              "      <td>1.45</td>\n",
              "      <td>355.0</td>\n",
              "      <td>97.0</td>\n",
              "    </tr>\n",
              "    <tr>\n",
              "      <th>2018-01-01 01:00:00+00:00</th>\n",
              "      <td>1514768400</td>\n",
              "      <td>28800</td>\n",
              "      <td>26.51</td>\n",
              "      <td>24.92</td>\n",
              "      <td>26.51</td>\n",
              "      <td>26.06</td>\n",
              "      <td>28.04</td>\n",
              "      <td>91.0</td>\n",
              "      <td>1.67</td>\n",
              "      <td>351.0</td>\n",
              "      <td>95.0</td>\n",
              "    </tr>\n",
              "    <tr>\n",
              "      <th>2018-01-01 02:00:00+00:00</th>\n",
              "      <td>1514772000</td>\n",
              "      <td>28800</td>\n",
              "      <td>28.68</td>\n",
              "      <td>25.71</td>\n",
              "      <td>34.68</td>\n",
              "      <td>28.03</td>\n",
              "      <td>29.30</td>\n",
              "      <td>84.0</td>\n",
              "      <td>1.72</td>\n",
              "      <td>345.0</td>\n",
              "      <td>90.0</td>\n",
              "    </tr>\n",
              "    <tr>\n",
              "      <th>2018-01-01 03:00:00+00:00</th>\n",
              "      <td>1514775600</td>\n",
              "      <td>28800</td>\n",
              "      <td>28.84</td>\n",
              "      <td>25.25</td>\n",
              "      <td>34.51</td>\n",
              "      <td>28.52</td>\n",
              "      <td>29.08</td>\n",
              "      <td>81.0</td>\n",
              "      <td>1.49</td>\n",
              "      <td>339.0</td>\n",
              "      <td>91.0</td>\n",
              "    </tr>\n",
              "    <tr>\n",
              "      <th>2018-01-01 04:00:00+00:00</th>\n",
              "      <td>1514779200</td>\n",
              "      <td>28800</td>\n",
              "      <td>29.75</td>\n",
              "      <td>24.62</td>\n",
              "      <td>35.38</td>\n",
              "      <td>29.31</td>\n",
              "      <td>30.57</td>\n",
              "      <td>74.0</td>\n",
              "      <td>1.39</td>\n",
              "      <td>339.0</td>\n",
              "      <td>96.0</td>\n",
              "    </tr>\n",
              "    <tr>\n",
              "      <th>...</th>\n",
              "      <td>...</td>\n",
              "      <td>...</td>\n",
              "      <td>...</td>\n",
              "      <td>...</td>\n",
              "      <td>...</td>\n",
              "      <td>...</td>\n",
              "      <td>...</td>\n",
              "      <td>...</td>\n",
              "      <td>...</td>\n",
              "      <td>...</td>\n",
              "      <td>...</td>\n",
              "    </tr>\n",
              "    <tr>\n",
              "      <th>2023-08-19 19:00:00+00:00</th>\n",
              "      <td>1692471600</td>\n",
              "      <td>28800</td>\n",
              "      <td>24.37</td>\n",
              "      <td>23.34</td>\n",
              "      <td>25.32</td>\n",
              "      <td>22.70</td>\n",
              "      <td>28.20</td>\n",
              "      <td>94.0</td>\n",
              "      <td>1.57</td>\n",
              "      <td>239.0</td>\n",
              "      <td>84.0</td>\n",
              "    </tr>\n",
              "    <tr>\n",
              "      <th>2023-08-19 20:00:00+00:00</th>\n",
              "      <td>1692475200</td>\n",
              "      <td>28800</td>\n",
              "      <td>23.87</td>\n",
              "      <td>23.02</td>\n",
              "      <td>24.79</td>\n",
              "      <td>21.91</td>\n",
              "      <td>28.01</td>\n",
              "      <td>95.0</td>\n",
              "      <td>1.53</td>\n",
              "      <td>235.0</td>\n",
              "      <td>70.0</td>\n",
              "    </tr>\n",
              "    <tr>\n",
              "      <th>2023-08-19 21:00:00+00:00</th>\n",
              "      <td>1692478800</td>\n",
              "      <td>28800</td>\n",
              "      <td>23.87</td>\n",
              "      <td>23.02</td>\n",
              "      <td>24.79</td>\n",
              "      <td>21.91</td>\n",
              "      <td>28.01</td>\n",
              "      <td>95.0</td>\n",
              "      <td>1.53</td>\n",
              "      <td>235.0</td>\n",
              "      <td>70.0</td>\n",
              "    </tr>\n",
              "    <tr>\n",
              "      <th>2023-08-19 22:00:00+00:00</th>\n",
              "      <td>1692482400</td>\n",
              "      <td>28800</td>\n",
              "      <td>23.87</td>\n",
              "      <td>23.02</td>\n",
              "      <td>24.79</td>\n",
              "      <td>21.91</td>\n",
              "      <td>28.01</td>\n",
              "      <td>95.0</td>\n",
              "      <td>1.53</td>\n",
              "      <td>235.0</td>\n",
              "      <td>70.0</td>\n",
              "    </tr>\n",
              "    <tr>\n",
              "      <th>2023-08-19 23:00:00+00:00</th>\n",
              "      <td>1692486000</td>\n",
              "      <td>28800</td>\n",
              "      <td>26.57</td>\n",
              "      <td>22.42</td>\n",
              "      <td>26.57</td>\n",
              "      <td>25.55</td>\n",
              "      <td>27.85</td>\n",
              "      <td>78.0</td>\n",
              "      <td>2.13</td>\n",
              "      <td>211.0</td>\n",
              "      <td>87.0</td>\n",
              "    </tr>\n",
              "  </tbody>\n",
              "</table>\n",
              "<p>49368 rows × 11 columns</p>\n",
              "</div>\n",
              "    <div class=\"colab-df-buttons\">\n",
              "\n",
              "  <div class=\"colab-df-container\">\n",
              "    <button class=\"colab-df-convert\" onclick=\"convertToInteractive('df-7ca14855-bcca-4b60-ab9e-06d12981d200')\"\n",
              "            title=\"Convert this dataframe to an interactive table.\"\n",
              "            style=\"display:none;\">\n",
              "\n",
              "  <svg xmlns=\"http://www.w3.org/2000/svg\" height=\"24px\" viewBox=\"0 -960 960 960\">\n",
              "    <path d=\"M120-120v-720h720v720H120Zm60-500h600v-160H180v160Zm220 220h160v-160H400v160Zm0 220h160v-160H400v160ZM180-400h160v-160H180v160Zm440 0h160v-160H620v160ZM180-180h160v-160H180v160Zm440 0h160v-160H620v160Z\"/>\n",
              "  </svg>\n",
              "    </button>\n",
              "\n",
              "  <style>\n",
              "    .colab-df-container {\n",
              "      display:flex;\n",
              "      gap: 12px;\n",
              "    }\n",
              "\n",
              "    .colab-df-convert {\n",
              "      background-color: #E8F0FE;\n",
              "      border: none;\n",
              "      border-radius: 50%;\n",
              "      cursor: pointer;\n",
              "      display: none;\n",
              "      fill: #1967D2;\n",
              "      height: 32px;\n",
              "      padding: 0 0 0 0;\n",
              "      width: 32px;\n",
              "    }\n",
              "\n",
              "    .colab-df-convert:hover {\n",
              "      background-color: #E2EBFA;\n",
              "      box-shadow: 0px 1px 2px rgba(60, 64, 67, 0.3), 0px 1px 3px 1px rgba(60, 64, 67, 0.15);\n",
              "      fill: #174EA6;\n",
              "    }\n",
              "\n",
              "    .colab-df-buttons div {\n",
              "      margin-bottom: 4px;\n",
              "    }\n",
              "\n",
              "    [theme=dark] .colab-df-convert {\n",
              "      background-color: #3B4455;\n",
              "      fill: #D2E3FC;\n",
              "    }\n",
              "\n",
              "    [theme=dark] .colab-df-convert:hover {\n",
              "      background-color: #434B5C;\n",
              "      box-shadow: 0px 1px 3px 1px rgba(0, 0, 0, 0.15);\n",
              "      filter: drop-shadow(0px 1px 2px rgba(0, 0, 0, 0.3));\n",
              "      fill: #FFFFFF;\n",
              "    }\n",
              "  </style>\n",
              "\n",
              "    <script>\n",
              "      const buttonEl =\n",
              "        document.querySelector('#df-7ca14855-bcca-4b60-ab9e-06d12981d200 button.colab-df-convert');\n",
              "      buttonEl.style.display =\n",
              "        google.colab.kernel.accessAllowed ? 'block' : 'none';\n",
              "\n",
              "      async function convertToInteractive(key) {\n",
              "        const element = document.querySelector('#df-7ca14855-bcca-4b60-ab9e-06d12981d200');\n",
              "        const dataTable =\n",
              "          await google.colab.kernel.invokeFunction('convertToInteractive',\n",
              "                                                    [key], {});\n",
              "        if (!dataTable) return;\n",
              "\n",
              "        const docLinkHtml = 'Like what you see? Visit the ' +\n",
              "          '<a target=\"_blank\" href=https://colab.research.google.com/notebooks/data_table.ipynb>data table notebook</a>'\n",
              "          + ' to learn more about interactive tables.';\n",
              "        element.innerHTML = '';\n",
              "        dataTable['output_type'] = 'display_data';\n",
              "        await google.colab.output.renderOutput(dataTable, element);\n",
              "        const docLink = document.createElement('div');\n",
              "        docLink.innerHTML = docLinkHtml;\n",
              "        element.appendChild(docLink);\n",
              "      }\n",
              "    </script>\n",
              "  </div>\n",
              "\n",
              "\n",
              "<div id=\"df-72a00a20-2e5b-4005-9b26-a3aa52f5058c\">\n",
              "  <button class=\"colab-df-quickchart\" onclick=\"quickchart('df-72a00a20-2e5b-4005-9b26-a3aa52f5058c')\"\n",
              "            title=\"Suggest charts.\"\n",
              "            style=\"display:none;\">\n",
              "\n",
              "<svg xmlns=\"http://www.w3.org/2000/svg\" height=\"24px\"viewBox=\"0 0 24 24\"\n",
              "     width=\"24px\">\n",
              "    <g>\n",
              "        <path d=\"M19 3H5c-1.1 0-2 .9-2 2v14c0 1.1.9 2 2 2h14c1.1 0 2-.9 2-2V5c0-1.1-.9-2-2-2zM9 17H7v-7h2v7zm4 0h-2V7h2v10zm4 0h-2v-4h2v4z\"/>\n",
              "    </g>\n",
              "</svg>\n",
              "  </button>\n",
              "\n",
              "<style>\n",
              "  .colab-df-quickchart {\n",
              "      --bg-color: #E8F0FE;\n",
              "      --fill-color: #1967D2;\n",
              "      --hover-bg-color: #E2EBFA;\n",
              "      --hover-fill-color: #174EA6;\n",
              "      --disabled-fill-color: #AAA;\n",
              "      --disabled-bg-color: #DDD;\n",
              "  }\n",
              "\n",
              "  [theme=dark] .colab-df-quickchart {\n",
              "      --bg-color: #3B4455;\n",
              "      --fill-color: #D2E3FC;\n",
              "      --hover-bg-color: #434B5C;\n",
              "      --hover-fill-color: #FFFFFF;\n",
              "      --disabled-bg-color: #3B4455;\n",
              "      --disabled-fill-color: #666;\n",
              "  }\n",
              "\n",
              "  .colab-df-quickchart {\n",
              "    background-color: var(--bg-color);\n",
              "    border: none;\n",
              "    border-radius: 50%;\n",
              "    cursor: pointer;\n",
              "    display: none;\n",
              "    fill: var(--fill-color);\n",
              "    height: 32px;\n",
              "    padding: 0;\n",
              "    width: 32px;\n",
              "  }\n",
              "\n",
              "  .colab-df-quickchart:hover {\n",
              "    background-color: var(--hover-bg-color);\n",
              "    box-shadow: 0 1px 2px rgba(60, 64, 67, 0.3), 0 1px 3px 1px rgba(60, 64, 67, 0.15);\n",
              "    fill: var(--button-hover-fill-color);\n",
              "  }\n",
              "\n",
              "  .colab-df-quickchart-complete:disabled,\n",
              "  .colab-df-quickchart-complete:disabled:hover {\n",
              "    background-color: var(--disabled-bg-color);\n",
              "    fill: var(--disabled-fill-color);\n",
              "    box-shadow: none;\n",
              "  }\n",
              "\n",
              "  .colab-df-spinner {\n",
              "    border: 2px solid var(--fill-color);\n",
              "    border-color: transparent;\n",
              "    border-bottom-color: var(--fill-color);\n",
              "    animation:\n",
              "      spin 1s steps(1) infinite;\n",
              "  }\n",
              "\n",
              "  @keyframes spin {\n",
              "    0% {\n",
              "      border-color: transparent;\n",
              "      border-bottom-color: var(--fill-color);\n",
              "      border-left-color: var(--fill-color);\n",
              "    }\n",
              "    20% {\n",
              "      border-color: transparent;\n",
              "      border-left-color: var(--fill-color);\n",
              "      border-top-color: var(--fill-color);\n",
              "    }\n",
              "    30% {\n",
              "      border-color: transparent;\n",
              "      border-left-color: var(--fill-color);\n",
              "      border-top-color: var(--fill-color);\n",
              "      border-right-color: var(--fill-color);\n",
              "    }\n",
              "    40% {\n",
              "      border-color: transparent;\n",
              "      border-right-color: var(--fill-color);\n",
              "      border-top-color: var(--fill-color);\n",
              "    }\n",
              "    60% {\n",
              "      border-color: transparent;\n",
              "      border-right-color: var(--fill-color);\n",
              "    }\n",
              "    80% {\n",
              "      border-color: transparent;\n",
              "      border-right-color: var(--fill-color);\n",
              "      border-bottom-color: var(--fill-color);\n",
              "    }\n",
              "    90% {\n",
              "      border-color: transparent;\n",
              "      border-bottom-color: var(--fill-color);\n",
              "    }\n",
              "  }\n",
              "</style>\n",
              "\n",
              "  <script>\n",
              "    async function quickchart(key) {\n",
              "      const quickchartButtonEl =\n",
              "        document.querySelector('#' + key + ' button');\n",
              "      quickchartButtonEl.disabled = true;  // To prevent multiple clicks.\n",
              "      quickchartButtonEl.classList.add('colab-df-spinner');\n",
              "      try {\n",
              "        const charts = await google.colab.kernel.invokeFunction(\n",
              "            'suggestCharts', [key], {});\n",
              "      } catch (error) {\n",
              "        console.error('Error during call to suggestCharts:', error);\n",
              "      }\n",
              "      quickchartButtonEl.classList.remove('colab-df-spinner');\n",
              "      quickchartButtonEl.classList.add('colab-df-quickchart-complete');\n",
              "    }\n",
              "    (() => {\n",
              "      let quickchartButtonEl =\n",
              "        document.querySelector('#df-72a00a20-2e5b-4005-9b26-a3aa52f5058c button');\n",
              "      quickchartButtonEl.style.display =\n",
              "        google.colab.kernel.accessAllowed ? 'block' : 'none';\n",
              "    })();\n",
              "  </script>\n",
              "</div>\n",
              "    </div>\n",
              "  </div>\n"
            ]
          },
          "metadata": {},
          "execution_count": 139
        }
      ]
    },
    {
      "cell_type": "code",
      "source": [
        "submission.to_csv('Pre-processed_test.csv', index=False)"
      ],
      "metadata": {
        "id": "w0MzFj2ipTOD"
      },
      "execution_count": null,
      "outputs": []
    },
    {
      "cell_type": "code",
      "source": [
        "submission.drop(['datetime',\"time-zone\"], axis=1, inplace=True)"
      ],
      "metadata": {
        "id": "0_hYUKBwCaVx"
      },
      "execution_count": null,
      "outputs": []
    },
    {
      "cell_type": "code",
      "source": [
        "test_result = bst.predict(submission, num_iteration=bst.best_iteration)"
      ],
      "metadata": {
        "id": "f20_EYgZ4XPl"
      },
      "execution_count": null,
      "outputs": []
    },
    {
      "cell_type": "code",
      "source": [
        "new_submission = pd.read_csv(test_path)\n",
        "new_submission = new_submission[\"datetime_iso\"]"
      ],
      "metadata": {
        "id": "v2cSuR-P4lu1"
      },
      "execution_count": null,
      "outputs": []
    },
    {
      "cell_type": "code",
      "source": [
        "submission = pd.DataFrame({'datetime_iso': new_submission, 'rain_1h': test_result})"
      ],
      "metadata": {
        "id": "d1YJjqTH5MCQ"
      },
      "execution_count": null,
      "outputs": []
    },
    {
      "cell_type": "code",
      "source": [
        "submission.to_csv('LGBM.csv', index=False)"
      ],
      "metadata": {
        "id": "TSQUKg2xDwlw"
      },
      "execution_count": null,
      "outputs": []
    }
  ]
}